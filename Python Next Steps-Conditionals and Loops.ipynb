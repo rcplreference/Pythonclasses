{
 "cells": [
  {
   "attachments": {
    "bf229586-d2e6-426b-8dd7-e5eb4dd88db7.png": {
     "image/png": "[encoded data removed]"
    }
   },
   "cell_type": "markdown",
   "id": "sealed-diversity",
   "metadata": {},
   "source": [
    "![image.png](attachment:bf229586-d2e6-426b-8dd7-e5eb4dd88db7.png)\n",
    "# Get Started With Python - Conditionals and Loops"
   ]
  },
  {
   "cell_type": "markdown",
   "id": "fourth-outdoors",
   "metadata": {},
   "source": [
    "## Conditionals\n",
    "Also called “If statements,” these are blocks of code that control the flow of a program.  A conditional test is set up and the program will do one thing if it is true and another if false."
   ]
  },
  {
   "cell_type": "markdown",
   "id": "round-workplace",
   "metadata": {},
   "source": [
    "### if\n",
    "The most basic conditional statement will begin with an IF.  The syntax is as follows:"
   ]
  },
  {
   "cell_type": "code",
   "execution_count": null,
   "id": "moral-platinum",
   "metadata": {},
   "outputs": [],
   "source": [
    "x = 10"
   ]
  },
  {
   "cell_type": "code",
   "execution_count": null,
   "id": "happy-rapid",
   "metadata": {},
   "outputs": [],
   "source": [
    "if x == 10:\n",
    "    print(\"true\")"
   ]
  },
  {
   "cell_type": "markdown",
   "id": "wooden-guinea",
   "metadata": {},
   "source": [
    "The keyword \"if\" is followed by a condition.  A colon must be placed at the end of the condition.\n",
    "The rest of the conditional code block must be indented.  Indentation in Python is somewhat forgiving, but it must be consistent throughout a program.\n",
    "Using tabs instead of spaces is generally a good idea.  Most IDEs will recognize code blocks and add indents automatically."
   ]
  },
  {
   "cell_type": "code",
   "execution_count": null,
   "id": "orange-technique",
   "metadata": {},
   "outputs": [],
   "source": [
    "if x == 10:\n",
    "    print(\"true\")"
   ]
  },
  {
   "cell_type": "markdown",
   "id": "purple-commodity",
   "metadata": {},
   "source": [
    "What happens if the condition doesn't resolve as True?  Without more, nothing happens and the program just picks back up after the conditional code block.\n",
    "To take advantage of a false condition, we need another keyword."
   ]
  },
  {
   "cell_type": "markdown",
   "id": "large-arthur",
   "metadata": {},
   "source": [
    "### else"
   ]
  },
  {
   "cell_type": "code",
   "execution_count": null,
   "id": "rural-soccer",
   "metadata": {},
   "outputs": [],
   "source": [
    "if x == 10:\n",
    "    print(\"true\")\n",
    "else:\n",
    "    print(\"false\")"
   ]
  },
  {
   "cell_type": "markdown",
   "id": "retained-depression",
   "metadata": {},
   "source": [
    "They keyword else and a colon appear below the else block.  Note the *else* keyword is on the same indentation level as the corresponding *if* keyword.  Else has its own indented code block.  This else block will run if no other part of the conditional does."
   ]
  },
  {
   "cell_type": "markdown",
   "id": "general-monster",
   "metadata": {},
   "source": [
    "Multiple conditions can be stacked up using one more keyword."
   ]
  },
  {
   "cell_type": "markdown",
   "id": "turkish-point",
   "metadata": {},
   "source": [
    "### elif"
   ]
  },
  {
   "cell_type": "code",
   "execution_count": null,
   "id": "based-newton",
   "metadata": {},
   "outputs": [],
   "source": [
    "x = 10\n",
    "if x == 10:\n",
    "    print(\"x equals 10\")\n",
    "elif x < 10:\n",
    "    print(\"x is less than 10\")\n",
    "elif x > 10:\n",
    "    print(\"x is greater than 10\")\n",
    "else:\n",
    "    print(\"false\")"
   ]
  },
  {
   "cell_type": "markdown",
   "id": "touched-enforcement",
   "metadata": {},
   "source": [
    "Using the elif structure, we can check against multiple conditions, chaining as many elif statements as you need.  However, only the first true condition will be executed.  If none of them are true, any final else statement will execute.  If there is no else clause, the conditional acts just like our first example and nothing happens and program picks back up after the conditional block.\n",
    "\n",
    "You can also structure the program with multiple but separate if statements.  Since they are separate, any and all that are true will execute in the order received:"
   ]
  },
  {
   "cell_type": "code",
   "execution_count": null,
   "id": "stylish-extreme",
   "metadata": {},
   "outputs": [],
   "source": [
    "if x == 10:\n",
    "    print(\"x is 10\")\n",
    "if x == 10:\n",
    "    print(\"x is still 10\")"
   ]
  },
  {
   "cell_type": "markdown",
   "id": "appropriate-bridal",
   "metadata": {},
   "source": [
    "Multiple if, elifs, and else blocks can be nested to perform more complicated tests.  Just be mindful of your indentation levels:"
   ]
  },
  {
   "cell_type": "code",
   "execution_count": null,
   "id": "manufactured-behalf",
   "metadata": {},
   "outputs": [],
   "source": [
    "a = 200\n",
    "if a < 200:\n",
    "    print(\"it is less than 200\")\n",
    "    if a >= 50:\n",
    "        print(\"it is less than 200 but at least 50 or greater\")\n",
    "    else:\n",
    "        print(\"it is actually less than 50\")\n",
    "else:\n",
    "    print(\"it is 200 or greater\")"
   ]
  },
  {
   "cell_type": "markdown",
   "id": "specific-detection",
   "metadata": {},
   "source": [
    "Any of the conditional and/or boolean operators we have covered can be used to form the conditional statements:"
   ]
  },
  {
   "cell_type": "code",
   "execution_count": null,
   "id": "executive-evans",
   "metadata": {},
   "outputs": [],
   "source": [
    "if a > 100 and a < 200:  #could also have written it as 100 < a < 200\n",
    "    print(\"it is between 100 and 200\")\n",
    "else:\n",
    "    print(\"try again\")"
   ]
  },
  {
   "cell_type": "markdown",
   "id": "daily-district",
   "metadata": {},
   "source": [
    "Here is conditional that test whether a number is even or odd"
   ]
  },
  {
   "cell_type": "code",
   "execution_count": null,
   "id": "dressed-wilson",
   "metadata": {},
   "outputs": [],
   "source": [
    "if a % 2 == 0:\n",
    "    print(\"a is an even number\")\n",
    "else:\n",
    "    print(\"a is an odd number\")"
   ]
  },
  {
   "cell_type": "markdown",
   "id": "distinguished-writer",
   "metadata": {},
   "source": [
    "## Loops\n",
    "Loops are used to repeat a section of code.  It might be used to simply repeat a single task or it might be used for something more complex.  Python has two types of loops."
   ]
  },
  {
   "cell_type": "markdown",
   "id": "prescribed-bench",
   "metadata": {},
   "source": [
    "### while\n",
    "While loops are useful when you want code to repeat as long as some condition is true.  You may not know exactly when the condition will become false, so you don't know the number of repetitions you will require.  The syntax looks like this:"
   ]
  },
  {
   "cell_type": "code",
   "execution_count": null,
   "id": "lined-induction",
   "metadata": {},
   "outputs": [],
   "source": [
    "a = 10\n",
    "while a > 0:\n",
    "    print(a)\n",
    "    a -= 1"
   ]
  },
  {
   "cell_type": "markdown",
   "id": "executive-crawford",
   "metadata": {},
   "source": [
    "If the condition after the while keyword is true, the following code block will execute.  Instead of exiting at the end, control returns back to the top\n",
    "and the condition is checked again.  If still true, the loop repeats and will continue to do so until the condition is false.\n",
    "Note the last line of that block: a -= 1.  Every while loops needs some code that will eventually trip the condition to false, otherwise you end up with an infinite loop.\n",
    "This will generally cause your program to crash.  So each repetition of this loop prints the value of variable a and then deceases it by 1.  Once it hits 0, the conditon is now false and the loop exits.\n",
    "\n",
    "The example below demonstrates a situation where you truly don't know how many repitions are needed and sets up a data validation test:"
   ]
  },
  {
   "cell_type": "code",
   "execution_count": null,
   "id": "sustainable-melissa",
   "metadata": {},
   "outputs": [],
   "source": [
    "x = input(\"Enter three characters: \")\n",
    "while len(x) != 3:\n",
    "    print(\"Try again\")\n",
    "    x = input(\"Enter three characters: \")\n",
    "    "
   ]
  },
  {
   "cell_type": "markdown",
   "id": "growing-diamond",
   "metadata": {},
   "source": [
    "#### break"
   ]
  },
  {
   "cell_type": "markdown",
   "id": "recorded-yield",
   "metadata": {},
   "source": [
    "The break keyword can be used to exit a while loop before the main condition turns false."
   ]
  },
  {
   "cell_type": "code",
   "execution_count": null,
   "id": "missing-quarter",
   "metadata": {},
   "outputs": [],
   "source": [
    "c = 1\n",
    "while c < 20:\n",
    "    print(c)\n",
    "    if c == 16:\n",
    "        break\n",
    "    c += 1"
   ]
  },
  {
   "cell_type": "markdown",
   "id": "conditional-cancellation",
   "metadata": {},
   "source": [
    "Break could also be used in a situation where the loop is set to be infinite unless a condition is met.  \"While True:\" will create an infinite loop."
   ]
  },
  {
   "cell_type": "code",
   "execution_count": null,
   "id": "innocent-winning",
   "metadata": {},
   "outputs": [],
   "source": [
    "while True:\n",
    "    name = input(\"enter your name: \")\n",
    "    confirm = input(\"Is \" + x + \" correct? type y or n: \")\n",
    "    if confirm == \"y\":\n",
    "        break\n",
    "print(\"you entered:\", name)\n"
   ]
  },
  {
   "cell_type": "markdown",
   "id": "found-semester",
   "metadata": {},
   "source": [
    "#### continue\n",
    "The continue keyword can be used to skip execution of the code block's other statements if a condition is met.  If the condition is met, the continue statement is reached and the loop jumps directly back to the top.\n",
    "\n",
    "The example below will skip the print statment if the variable is currently an even number, so only odd numbers between 20 and 0 print."
   ]
  },
  {
   "cell_type": "code",
   "execution_count": null,
   "id": "amateur-program",
   "metadata": {},
   "outputs": [],
   "source": [
    "b = 20\n",
    "while b > 0:\n",
    "    b -= 1\n",
    "    if b % 2 == 0:\n",
    "        continue\n",
    "    print(b)\n"
   ]
  },
  {
   "cell_type": "markdown",
   "id": "present-drilling",
   "metadata": {},
   "source": [
    "#### else\n",
    "The keyword else is also usable with loops.  However, it works a little differently than with if statements.  The condition of an if statment my well never be false and any else statement will never run.  With a while loop, this else clause is going to run at the end of the while loop matter what.  If the initial condition happens to be false to start with, it else statement will run immediately.  The logic here being that all while loops (except infinite ones) basically end with a condition of false and that is what triggers the else keyword.   \n"
   ]
  },
  {
   "cell_type": "code",
   "execution_count": null,
   "id": "raising-mistake",
   "metadata": {},
   "outputs": [],
   "source": [
    "num1 = 15\n",
    "while num1 > 0:\n",
    "    print(num1)\n",
    "    num1 -= 2\n",
    "else:\n",
    "    print(\"all done!\")"
   ]
  },
  {
   "cell_type": "markdown",
   "id": "looking-campaign",
   "metadata": {},
   "source": [
    "### for\n",
    "Instead of looping based on a condition, for loops run a defined number of times.  It does this by running a loop for each memeber of a sequence you give it.  This sequence could be a group of strings in a list, it could be characters in a single string, or the numbers in a range.  When it reaches the end of the sequence, the loop exits.\n",
    "\n",
    "A simple for loop looks like this:"
   ]
  },
  {
   "cell_type": "code",
   "execution_count": null,
   "id": "understood-boulder",
   "metadata": {},
   "outputs": [],
   "source": [
    "letter = \"hello\""
   ]
  },
  {
   "cell_type": "code",
   "execution_count": null,
   "id": "liberal-headset",
   "metadata": {},
   "outputs": [],
   "source": [
    "for letter in \"dictionary\":\n",
    "    print(letter)"
   ]
  },
  {
   "cell_type": "markdown",
   "id": "caroline-ladder",
   "metadata": {},
   "source": [
    "The syntax essentially the same as with other code blocks like while loops.  It begins with the for keyword.  Next comes a variable name.  This could have been \"x\" just as easily as the word \"letter.\"  This variable is refered to as an \"index variable\" is acts as a placeholder for the values being looped over.  On each iteration of the loop, the next value is assigned to this variable.  Any valid variable name will work.\n",
    "\n",
    "Note that even though they are placeholders, these index variables persist after the loop is complete.  Be careful not to use variable names you have used elsewhere in your program that you don't want overwritten."
   ]
  },
  {
   "cell_type": "code",
   "execution_count": null,
   "id": "developmental-server",
   "metadata": {},
   "outputs": [],
   "source": [
    "print(letter)"
   ]
  },
  {
   "cell_type": "markdown",
   "id": "close-welding",
   "metadata": {},
   "source": [
    "For loops can contain multiple commands to run on each iteration.  This can be used to create more complex functionality.\n",
    "The following loop takes the values of one string and concatenates them into another:"
   ]
  },
  {
   "cell_type": "code",
   "execution_count": null,
   "id": "deadly-netherlands",
   "metadata": {},
   "outputs": [],
   "source": [
    "fruit = \"banana\"\n",
    "copy = \"\"\n",
    "print(\"copy before loop:\",copy)\n",
    "for letter in fruit:\n",
    "    print(letter)\n",
    "    copy += letter"
   ]
  },
  {
   "cell_type": "code",
   "execution_count": null,
   "id": "ignored-keeping",
   "metadata": {},
   "outputs": [],
   "source": [
    "print(\"copy after loop:\",copy)"
   ]
  },
  {
   "cell_type": "markdown",
   "id": "peaceful-serum",
   "metadata": {},
   "source": [
    "The same break, continue, and else keywords work the same with for loops too.  The logic of else is a little less obvious than with while loops, but just know it works the same and will run at the end of the loop no matter what.\n",
    "\n",
    "Use continue to skip an iteration:"
   ]
  },
  {
   "cell_type": "code",
   "execution_count": null,
   "id": "selective-raleigh",
   "metadata": {},
   "outputs": [],
   "source": [
    "for letter in \"banana\":\n",
    "    if letter == \"a\":\n",
    "        continue\n",
    "    print(letter)"
   ]
  },
  {
   "cell_type": "markdown",
   "id": "widespread-fairy",
   "metadata": {},
   "source": [
    "Use break to stop the loop early:"
   ]
  },
  {
   "cell_type": "code",
   "execution_count": null,
   "id": "minor-garbage",
   "metadata": {},
   "outputs": [],
   "source": [
    "for letter in \"dictionary\":\n",
    "    if letter == \"n\":\n",
    "        break\n",
    "    print(letter)"
   ]
  },
  {
   "cell_type": "markdown",
   "id": "funded-policy",
   "metadata": {},
   "source": [
    "### Range function"
   ]
  },
  {
   "cell_type": "markdown",
   "id": "conventional-figure",
   "metadata": {},
   "source": [
    "While it is used in other contexts, the range function is frequently used with for loops.  You may want to repeat some code a certain number of times, but not in relation\n",
    "to some sequential object like a string as the examples above show.  The range function lets us create a generic sequence of whatever length we want.  It is still dependent on a sequence, but the values in that sequence don't have to be acted upon."
   ]
  },
  {
   "cell_type": "code",
   "execution_count": null,
   "id": "atmospheric-jersey",
   "metadata": {},
   "outputs": [],
   "source": [
    "range(6)"
   ]
  },
  {
   "cell_type": "code",
   "execution_count": null,
   "id": "radical-thermal",
   "metadata": {},
   "outputs": [],
   "source": [
    "for x in range(6):\n",
    "    print(x)"
   ]
  },
  {
   "cell_type": "markdown",
   "id": "vertical-implement",
   "metadata": {},
   "source": [
    "The range function returns a sequence of numbers.  Without more, the sequence it returns will begin at 0 and end one short of the number you passed to the function.\n",
    "This is because Python, and most programming languages start counting sequences with zero.  This is called zero-based indexing, as the first element in the sequence has an index of 0, the next 1, and so forth.  You can think of the number in the parenthesis as the stopping number.\n",
    "\n",
    "So by passing the number 6 to range, it executed the print statement 6 times.\n",
    "\n",
    "This is useful if you only care about the code running a certain number of times and has no relationship with the actual numbers assigned to the placeholder variable.  There will be times when you actually do want to operate on those numbers.  We have basically done that with our print statement.  What if we wanted to print a specific range of numbers?\n",
    "\n",
    "You can control where the range begins and ends too.  With only a single number in the parenthesis, it acts as a stopping number.  With two numbers, comman separated, the range will begin with the first value and the second becomes the stopping number:"
   ]
  },
  {
   "cell_type": "code",
   "execution_count": null,
   "id": "vietnamese-politics",
   "metadata": {},
   "outputs": [],
   "source": [
    "for x in range(5, 11):\n",
    "    print(x)"
   ]
  },
  {
   "cell_type": "markdown",
   "id": "infrared-archive",
   "metadata": {},
   "source": [
    "You can also control the increment by which the numbers are returned from range.  Adding a third number to the arguments acts as the \"step\" number.\n",
    "Remember - **range(start, stop, step)**\n",
    "\n",
    "This example prints numbers from 10 to 100, counting by 10s"
   ]
  },
  {
   "cell_type": "code",
   "execution_count": null,
   "id": "raising-columbia",
   "metadata": {},
   "outputs": [],
   "source": [
    "for x in range(10, 101, 10):\n",
    "    print(x)"
   ]
  },
  {
   "cell_type": "markdown",
   "id": "backed-greene",
   "metadata": {},
   "source": [
    "So far the ranges have all counted up.  What if you want to count down?  Your start number becomes the high value and stop becomes the lower value.  You will need to give it a negative step number too, as range will always default to a positive 1.  We can print numbers from 100 to 10 also counting down by 10s.  Don't forget the nature of the stop number.  In the example below, the stop needs to be 9 in order to get to 10 as range returns everything up to (or down to in this case) but not including the actual stop number."
   ]
  },
  {
   "cell_type": "code",
   "execution_count": null,
   "id": "homeless-bermuda",
   "metadata": {},
   "outputs": [],
   "source": [
    "for x in range(100, 9, -10):\n",
    "    print(x)"
   ]
  },
  {
   "cell_type": "markdown",
   "id": "technical-tobago",
   "metadata": {},
   "source": [
    "***Nesting Loops***\n",
    "Just as if statements can be nested, loops can too.  The flow of the program can become difficult to keep up with, but can be used to create more complex programs.  The innermost loop runs completely for each iteration of the container outerloop.  A simple example that generates a multiplication table:"
   ]
  },
  {
   "cell_type": "code",
   "execution_count": null,
   "id": "banned-neighbor",
   "metadata": {},
   "outputs": [],
   "source": [
    "for x in range(1,11):\n",
    "    for y in range(6):\n",
    "        print(x, \"*\", y, \"=\", x*y)\n",
    "        print(\"-----------\")"
   ]
  },
  {
   "cell_type": "code",
   "execution_count": null,
   "id": "congressional-consciousness",
   "metadata": {},
   "outputs": [],
   "source": []
  }
 ],
 "metadata": {
  "kernelspec": {
   "display_name": "Python 3",
   "language": "python",
   "name": "python3"
  },
  "language_info": {
   "codemirror_mode": {
    "name": "ipython",
    "version": 3
   },
   "file_extension": ".py",
   "mimetype": "text/x-python",
   "name": "python",
   "nbconvert_exporter": "python",
   "pygments_lexer": "ipython3",
   "version": "3.9.0"
  }
 },
 "nbformat": 4,
 "nbformat_minor": 5
}
