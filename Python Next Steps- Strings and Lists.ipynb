{
 "cells": [
  {
   "cell_type": "markdown",
   "id": "serious-deviation",
   "metadata": {},
   "source": []
  },
  {
   "cell_type": "markdown",
   "id": "thorough-florence",
   "metadata": {},
   "source": [
    "# Python Next Steps - Strings and Lists"
   ]
  },
  {
   "cell_type": "markdown",
   "id": "understanding-current",
   "metadata": {},
   "source": [
    "## Strings\n",
    "Strings are sequences of characters whether letters, numbers or symbols.  They are enclosed in quotation marks.\n",
    "We have already covered using + to concatenate and * to repeat strings.  This class expands on ways of working with strings."
   ]
  },
  {
   "cell_type": "markdown",
   "id": "veterinary-pricing",
   "metadata": {},
   "source": [
    "### Escape Characters\n",
    "The \\ blackslash is used in combination with certain characters to form what are called escape characters. Escape characters are inserted directly into a string, but serve special purposes.  The following are a few useful ones to know:"
   ]
  },
  {
   "cell_type": "markdown",
   "id": "hispanic-press",
   "metadata": {},
   "source": [
    "**New line break - \\n tells Python to insert a line break, allowing you to break up text as it prints**"
   ]
  },
  {
   "cell_type": "code",
   "execution_count": 3,
   "id": "british-threat",
   "metadata": {},
   "outputs": [
    {
     "name": "stdout",
     "output_type": "stream",
     "text": [
      "these words\n",
      "will print\n",
      "line\n",
      "by\n",
      "line\n"
     ]
    }
   ],
   "source": [
    "print(\"these words\\nwill print\\nline\\nby\\nline\")"
   ]
  },
  {
   "cell_type": "markdown",
   "id": "whole-balance",
   "metadata": {},
   "source": [
    "**Tab - \\t lets you insert tab length spaces.**"
   ]
  },
  {
   "cell_type": "code",
   "execution_count": 5,
   "id": "powerful-quarter",
   "metadata": {},
   "outputs": [
    {
     "name": "stdout",
     "output_type": "stream",
     "text": [
      "\tspacing can\tbe\teasier\n"
     ]
    }
   ],
   "source": [
    "print(\"\\tspacing can\\tbe\\teasier\")"
   ]
  },
  {
   "cell_type": "markdown",
   "id": "third-polymer",
   "metadata": {},
   "source": [
    "**Quotes - \\\\' and \\\\\" - if you want to force Python to allow a certain quote mark style in a string and for use with apostrophes.** "
   ]
  },
  {
   "cell_type": "code",
   "execution_count": 7,
   "id": "arbitrary-effects",
   "metadata": {},
   "outputs": [
    {
     "name": "stdout",
     "output_type": "stream",
     "text": [
      "Don't forget your \"escape characters.\"\n"
     ]
    }
   ],
   "source": [
    "print(\"Don\\'t forget your \\\"escape characters.\\\"\")"
   ]
  },
  {
   "cell_type": "markdown",
   "id": "wound-moderator",
   "metadata": {},
   "source": [
    "**Backslash - \\\\ for when you actually need a backslash in the string, helpful when dealing with paths or urls in strings.**"
   ]
  },
  {
   "cell_type": "code",
   "execution_count": 9,
   "id": "infectious-finding",
   "metadata": {},
   "outputs": [
    {
     "name": "stdout",
     "output_type": "stream",
     "text": [
      "c:\\Home\\Backslash\\\n"
     ]
    }
   ],
   "source": [
    "print(\"c:\\\\Home\\\\Backslash\\\\\")"
   ]
  },
  {
   "cell_type": "markdown",
   "id": "initial-closing",
   "metadata": {},
   "source": [
    "### Length\n",
    "Determining the length of a string can be done with the len() function.  This works on other data types as well."
   ]
  },
  {
   "cell_type": "code",
   "execution_count": 18,
   "id": "latest-duplicate",
   "metadata": {},
   "outputs": [
    {
     "data": {
      "text/plain": [
       "16"
      ]
     },
     "execution_count": 18,
     "metadata": {},
     "output_type": "execute_result"
    }
   ],
   "source": [
    "a = \"Here is a string\"\n",
    "len(a)"
   ]
  },
  {
   "cell_type": "markdown",
   "id": "amazing-encyclopedia",
   "metadata": {},
   "source": [
    "## String Functions"
   ]
  },
  {
   "cell_type": "markdown",
   "id": "collective-watch",
   "metadata": {},
   "source": [
    "In the intro class we briefly touched upon the fact that each data type has functions of their own.  These functions are built into the \n",
    "object classes for each data type.  Because these functions belong to the object, in this case strings, they use a slightly different syntax\n",
    "than we have used so far.  They are also referred to as \"methods.\"  Here are some important ones to know:"
   ]
  },
  {
   "cell_type": "code",
   "execution_count": 13,
   "id": "architectural-broad",
   "metadata": {},
   "outputs": [
    {
     "data": {
      "text/plain": [
       "'HERE IS A STRING'"
      ]
     },
     "execution_count": 13,
     "metadata": {},
     "output_type": "execute_result"
    }
   ],
   "source": [
    "a.upper() #the upper and lower methods are useful for normalizing user input for internal use"
   ]
  },
  {
   "cell_type": "code",
   "execution_count": 14,
   "id": "after-marina",
   "metadata": {},
   "outputs": [
    {
     "data": {
      "text/plain": [
       "'here is a string'"
      ]
     },
     "execution_count": 14,
     "metadata": {},
     "output_type": "execute_result"
    }
   ],
   "source": [
    "a.lower()"
   ]
  },
  {
   "cell_type": "code",
   "execution_count": 33,
   "id": "demographic-tension",
   "metadata": {},
   "outputs": [
    {
     "data": {
      "text/plain": [
       "['Here', 'is', 'a', 'string']"
      ]
     },
     "execution_count": 33,
     "metadata": {},
     "output_type": "execute_result"
    }
   ],
   "source": [
    "a.split() #the default is to split at each space character"
   ]
  },
  {
   "cell_type": "markdown",
   "id": "atmospheric-charity",
   "metadata": {},
   "source": [
    "Splitting a string results in a list.  We will cover things you can do with a list later."
   ]
  },
  {
   "cell_type": "code",
   "execution_count": 35,
   "id": "acute-tracy",
   "metadata": {},
   "outputs": [
    {
     "data": {
      "text/plain": [
       "['Here ', 's a str', 'ng']"
      ]
     },
     "execution_count": 35,
     "metadata": {},
     "output_type": "execute_result"
    }
   ],
   "source": [
    "a.split(\"i\") #you can specify where the split happens, though that character will not appear in the resulting string"
   ]
  },
  {
   "cell_type": "code",
   "execution_count": 32,
   "id": "undefined-happiness",
   "metadata": {},
   "outputs": [
    {
     "data": {
      "text/plain": [
       "'H-e-r-e- -i-s- -a- -s-t-r-i-n-g'"
      ]
     },
     "execution_count": 32,
     "metadata": {},
     "output_type": "execute_result"
    }
   ],
   "source": [
    "\"-\".join(a) #note that the joining character comes first.  Technically this is calling the string method on \"-\", not variable a"
   ]
  },
  {
   "cell_type": "code",
   "execution_count": 30,
   "id": "coral-morrison",
   "metadata": {},
   "outputs": [
    {
     "data": {
      "text/plain": [
       "'This is a string'"
      ]
     },
     "execution_count": 30,
     "metadata": {},
     "output_type": "execute_result"
    }
   ],
   "source": [
    "a.replace(\"Here\", \"This\")"
   ]
  },
  {
   "cell_type": "code",
   "execution_count": 31,
   "id": "local-dakota",
   "metadata": {},
   "outputs": [
    {
     "data": {
      "text/plain": [
       "'Hereisastring'"
      ]
     },
     "execution_count": 31,
     "metadata": {},
     "output_type": "execute_result"
    }
   ],
   "source": [
    "a.replace(\" \", \"\") #You can replace spaces too, this trick essentially removes all internal spaces"
   ]
  },
  {
   "cell_type": "code",
   "execution_count": 36,
   "id": "opposed-pattern",
   "metadata": {},
   "outputs": [
    {
     "data": {
      "text/plain": [
       "'Hereis a string'"
      ]
     },
     "execution_count": 36,
     "metadata": {},
     "output_type": "execute_result"
    }
   ],
   "source": [
    "a.replace(\" \", \"\", 1) #takes an optional 3rd parameter for the max number of replacements to perform"
   ]
  },
  {
   "cell_type": "code",
   "execution_count": 28,
   "id": "fleet-shelter",
   "metadata": {},
   "outputs": [
    {
     "name": "stdout",
     "output_type": "stream",
     "text": [
      "\tHere is a string with extra whitespaces\t\t\n"
     ]
    }
   ],
   "source": [
    "x = \"\\tHere is a string with extra whitespaces\\t\\t\"\n",
    "print(x)"
   ]
  },
  {
   "cell_type": "code",
   "execution_count": 29,
   "id": "tamil-stanley",
   "metadata": {},
   "outputs": [
    {
     "data": {
      "text/plain": [
       "'Here is a string with extra whitespaces'"
      ]
     },
     "execution_count": 29,
     "metadata": {},
     "output_type": "execute_result"
    }
   ],
   "source": [
    "x.strip() #strip() removes whitespace from the begining and/or end of the original string"
   ]
  },
  {
   "cell_type": "markdown",
   "id": "bizarre-import",
   "metadata": {},
   "source": [
    "In Python, strings are immutable.  This means that once created, they cannot be changed.  This is done to keep memory allocation and\n",
    "other background processes easier and consistent.\n",
    "\n",
    "The methods we just covered do not change the original string.  They are actually returning a new string object.  Because the original is left alone, we were able to call all of these methods on variable a without having to deal with the cumulative changes.  You would have to assign these values to their own variables to keep them.\n"
   ]
  },
  {
   "cell_type": "markdown",
   "id": "strange-associate",
   "metadata": {},
   "source": [
    "## String Indexing"
   ]
  },
  {
   "cell_type": "markdown",
   "id": "injured-frederick",
   "metadata": {},
   "source": [
    "Each character in a string can be individually accessed via an index number.  Python uses zero based indexing, so all counting begins\n",
    "with the index number of 0.  Also note that all characters, including spaces and punctuation marks form part of the count."
   ]
  },
  {
   "cell_type": "markdown",
   "id": "hidden-airfare",
   "metadata": {},
   "source": [
    "To access or specify a certain character you can use bracket notation.  The string or the variable name is followed by [].\n",
    "Inside the bracket, you will enter the index number of the character you want."
   ]
  },
  {
   "cell_type": "code",
   "execution_count": 38,
   "id": "organizational-prediction",
   "metadata": {},
   "outputs": [
    {
     "name": "stdout",
     "output_type": "stream",
     "text": [
      "H\n"
     ]
    }
   ],
   "source": [
    "print(a[0]) #this will print the first character in variable a"
   ]
  },
  {
   "cell_type": "markdown",
   "id": "resistant-relaxation",
   "metadata": {},
   "source": [
    "You can also access characters using negative index numbers.  When doing so, -1 will be the index of the last character in the string,\n",
    "-2 is the next to last, and so on.  This is useful when you know you want the end of a string, but don't know how long it is or will be."
   ]
  },
  {
   "cell_type": "code",
   "execution_count": 39,
   "id": "whole-editing",
   "metadata": {},
   "outputs": [
    {
     "name": "stdout",
     "output_type": "stream",
     "text": [
      "g\n"
     ]
    }
   ],
   "source": [
    "print(a[-1])"
   ]
  },
  {
   "cell_type": "markdown",
   "id": "sensitive-obligation",
   "metadata": {},
   "source": [
    "If you overshoot the actual length of the string and give an index number that is too high or too low, you will receive an error."
   ]
  },
  {
   "cell_type": "code",
   "execution_count": 40,
   "id": "demonstrated-graham",
   "metadata": {},
   "outputs": [
    {
     "ename": "IndexError",
     "evalue": "string index out of range",
     "output_type": "error",
     "traceback": [
      "\u001b[1;31m---------------------------------------------------------------------------\u001b[0m",
      "\u001b[1;31mIndexError\u001b[0m                                Traceback (most recent call last)",
      "\u001b[1;32m<ipython-input-40-a949d905987c>\u001b[0m in \u001b[0;36m<module>\u001b[1;34m\u001b[0m\n\u001b[1;32m----> 1\u001b[1;33m \u001b[0mprint\u001b[0m\u001b[1;33m(\u001b[0m\u001b[0ma\u001b[0m\u001b[1;33m[\u001b[0m\u001b[1;36m20\u001b[0m\u001b[1;33m]\u001b[0m\u001b[1;33m)\u001b[0m\u001b[1;33m\u001b[0m\u001b[1;33m\u001b[0m\u001b[0m\n\u001b[0m",
      "\u001b[1;31mIndexError\u001b[0m: string index out of range"
     ]
    }
   ],
   "source": [
    "print(a[20])"
   ]
  },
  {
   "cell_type": "markdown",
   "id": "compact-ethics",
   "metadata": {},
   "source": [
    "### Slicing"
   ]
  },
  {
   "cell_type": "markdown",
   "id": "durable-imperial",
   "metadata": {},
   "source": [
    "Using the same bracket notation, you can create a range of characater indexes that will give you a \"slice\" or substring of the original.\n",
    "Inside the brackets enter the first index you want followed by a colon.  Then enter the index of one character past where you want to end.  Like the range() function, the second number is a stop number and isn't actually included in the result."
   ]
  },
  {
   "cell_type": "code",
   "execution_count": 43,
   "id": "turned-samuel",
   "metadata": {},
   "outputs": [
    {
     "name": "stdout",
     "output_type": "stream",
     "text": [
      "is\n"
     ]
    }
   ],
   "source": [
    "print(a[5:7]) #returns the third through 9th characters."
   ]
  },
  {
   "cell_type": "markdown",
   "id": "ordered-audio",
   "metadata": {},
   "source": [
    "If you don't specify a starting index, it begins at 0"
   ]
  },
  {
   "cell_type": "code",
   "execution_count": 44,
   "id": "contrary-interest",
   "metadata": {},
   "outputs": [
    {
     "name": "stdout",
     "output_type": "stream",
     "text": [
      "Here is\n"
     ]
    }
   ],
   "source": [
    "print(a[:7])"
   ]
  },
  {
   "cell_type": "markdown",
   "id": "centered-burner",
   "metadata": {},
   "source": [
    "If you don't specify a stop number, it will slice to the end."
   ]
  },
  {
   "cell_type": "code",
   "execution_count": 45,
   "id": "animal-cardiff",
   "metadata": {},
   "outputs": [
    {
     "name": "stdout",
     "output_type": "stream",
     "text": [
      " a string\n"
     ]
    }
   ],
   "source": [
    "print(a[7:])"
   ]
  },
  {
   "cell_type": "markdown",
   "id": "jewish-impossible",
   "metadata": {},
   "source": [
    "If you leave both sides of the colon blank, you get the whole string"
   ]
  },
  {
   "cell_type": "code",
   "execution_count": 46,
   "id": "portable-aurora",
   "metadata": {},
   "outputs": [
    {
     "name": "stdout",
     "output_type": "stream",
     "text": [
      "Here is a string\n"
     ]
    }
   ],
   "source": [
    "print(a[:])"
   ]
  },
  {
   "cell_type": "markdown",
   "id": "unable-sitting",
   "metadata": {},
   "source": [
    "Negative numbers can be used with slicing too.  Using a negative start number can get you a substring off the end when you don't know\n",
    "how long your string really is or will be."
   ]
  },
  {
   "cell_type": "code",
   "execution_count": 48,
   "id": "fifteen-swimming",
   "metadata": {},
   "outputs": [
    {
     "name": "stdout",
     "output_type": "stream",
     "text": [
      "string\n"
     ]
    }
   ],
   "source": [
    "print(a[-6:]) #starts 6 characters from the end and then goes to the end"
   ]
  },
  {
   "cell_type": "markdown",
   "id": "alone-treat",
   "metadata": {},
   "source": [
    "Using negative stop numbers works too.  This will stop the slice at some point before the end of the string"
   ]
  },
  {
   "cell_type": "code",
   "execution_count": 49,
   "id": "global-outdoors",
   "metadata": {},
   "outputs": [
    {
     "name": "stdout",
     "output_type": "stream",
     "text": [
      "str\n"
     ]
    }
   ],
   "source": [
    "print(a[-6:-3])"
   ]
  },
  {
   "cell_type": "markdown",
   "id": "flush-tsunami",
   "metadata": {},
   "source": [
    "As with the range function, index slices can take a third number, indicating the step."
   ]
  },
  {
   "cell_type": "code",
   "execution_count": 53,
   "id": "informational-connection",
   "metadata": {},
   "outputs": [
    {
     "name": "stdout",
     "output_type": "stream",
     "text": [
      "Hr sanwsrn\n"
     ]
    }
   ],
   "source": [
    "b = \"Here is a new string\"\n",
    "print(b[::2]) # starts at index 0 and then goes through the entire string, but 2 characters at a time."
   ]
  },
  {
   "cell_type": "markdown",
   "id": "architectural-wrestling",
   "metadata": {},
   "source": [
    "One more trick is reversing a whole string. Leave the first two numbers out and give it a -1 step."
   ]
  },
  {
   "cell_type": "code",
   "execution_count": 54,
   "id": "liable-dealing",
   "metadata": {},
   "outputs": [
    {
     "name": "stdout",
     "output_type": "stream",
     "text": [
      "gnirts wen a si ereH\n"
     ]
    }
   ],
   "source": [
    "print(b[::-1])"
   ]
  },
  {
   "cell_type": "markdown",
   "id": "stretch-guarantee",
   "metadata": {},
   "source": [
    "## in and not in"
   ]
  },
  {
   "cell_type": "markdown",
   "id": "arranged-spirit",
   "metadata": {},
   "source": [
    "The keyword in or combined with the boolean operator not, can be used to test if a string contains a specific character or substring.\n",
    "The result of such an expression will be a boolean, True or False."
   ]
  },
  {
   "cell_type": "code",
   "execution_count": 58,
   "id": "olive-trailer",
   "metadata": {},
   "outputs": [
    {
     "name": "stdout",
     "output_type": "stream",
     "text": [
      "True False\n"
     ]
    }
   ],
   "source": [
    "my_string = \"Hello World!\"\n",
    "\n",
    "h = \"Hello\" in my_string\n",
    "n = \"something\"in my_string\n",
    "\n",
    "print(h, n)"
   ]
  },
  {
   "cell_type": "markdown",
   "id": "ordered-cooper",
   "metadata": {},
   "source": [
    "## Lists"
   ]
  },
  {
   "cell_type": "markdown",
   "id": "complimentary-sugar",
   "metadata": {},
   "source": [
    "Lists are another sequence data type.  You will also sometimes see them called arrays.  They are used to collect multiple values or \"items.\" These items don't have to be the same kind of data.  It could contain any assortment of numbers, letters, strings, and more.\n",
    "\n",
    "The key syntax is that a list is contained in square brackes [] just like the string slice notation and the items are comma separated."
   ]
  },
  {
   "cell_type": "code",
   "execution_count": 98,
   "id": "technological-romance",
   "metadata": {},
   "outputs": [
    {
     "name": "stdout",
     "output_type": "stream",
     "text": [
      "['dog', 'cat', 1.5, 7, 'human']\n"
     ]
    }
   ],
   "source": [
    "my_list = [\"dog\", \"cat\", 1.5, 7, \"human\"]\n",
    "print(my_list)\n"
   ]
  },
  {
   "cell_type": "markdown",
   "id": "minute-contamination",
   "metadata": {},
   "source": [
    "A list can exist without any items.  It is just called an empty string.  Sometimes you will need to create these to be filled by other code."
   ]
  },
  {
   "cell_type": "code",
   "execution_count": 97,
   "id": "recent-virgin",
   "metadata": {},
   "outputs": [
    {
     "name": "stdout",
     "output_type": "stream",
     "text": [
      "[]\n"
     ]
    }
   ],
   "source": [
    "empty = []\n",
    "print(empty)"
   ]
  },
  {
   "cell_type": "markdown",
   "id": "sorted-category",
   "metadata": {},
   "source": [
    "The len() function works the same with lists to give you the number of items.  Concatenation with + and repetition with * do too.  Remember when concatenating the objects must be of the same data type."
   ]
  },
  {
   "cell_type": "code",
   "execution_count": 68,
   "id": "ongoing-howard",
   "metadata": {},
   "outputs": [
    {
     "name": "stdout",
     "output_type": "stream",
     "text": [
      "5\n",
      "['dog', 'cat', 1.5, 7, 'human', 'one more item']\n",
      "['dog', 'cat', 1.5, 7, 'human', 'dog', 'cat', 1.5, 7, 'human', 'dog', 'cat', 1.5, 7, 'human']\n"
     ]
    }
   ],
   "source": [
    "print(len(my_list))\n",
    "\n",
    "print(my_list + [\"one more item\"])\n",
    "\n",
    "print(my_list * 3)"
   ]
  },
  {
   "cell_type": "markdown",
   "id": "bound-victor",
   "metadata": {},
   "source": [
    "Like strings, the items in lists are indexed, so can be accessed and sliced just like string using the same notation.\n",
    "Slice notation works the same as well."
   ]
  },
  {
   "cell_type": "code",
   "execution_count": 64,
   "id": "threaded-budapest",
   "metadata": {},
   "outputs": [
    {
     "name": "stdout",
     "output_type": "stream",
     "text": [
      "1.5\n"
     ]
    }
   ],
   "source": [
    "print(my_list[2])"
   ]
  },
  {
   "cell_type": "code",
   "execution_count": 65,
   "id": "concerned-oakland",
   "metadata": {},
   "outputs": [
    {
     "name": "stdout",
     "output_type": "stream",
     "text": [
      "['dog', 'cat', 1.5, 7]\n"
     ]
    }
   ],
   "source": [
    "print(my_list[:4])"
   ]
  },
  {
   "cell_type": "code",
   "execution_count": 66,
   "id": "voluntary-boating",
   "metadata": {},
   "outputs": [
    {
     "name": "stdout",
     "output_type": "stream",
     "text": [
      "human\n"
     ]
    }
   ],
   "source": [
    "print(my_list[-1])"
   ]
  },
  {
   "cell_type": "markdown",
   "id": "endangered-utility",
   "metadata": {},
   "source": [
    "Unlike strings, lists are mutable.  Changes to the list change the original object.  You can directly reassign the value at a given index."
   ]
  },
  {
   "cell_type": "code",
   "execution_count": 84,
   "id": "exterior-possession",
   "metadata": {},
   "outputs": [
    {
     "name": "stdout",
     "output_type": "stream",
     "text": [
      "['dog', 'cat', 'bird', 'bird', 7, 'human', 10]\n"
     ]
    }
   ],
   "source": [
    "my_list[2] = \"bird\"\n",
    "\n",
    "print(my_list)"
   ]
  },
  {
   "cell_type": "markdown",
   "id": "wound-township",
   "metadata": {},
   "source": [
    "### List Functions\n",
    "List have their own functions or methods to accomplish all sorts of tasks.  The same dot notation is used as with strings."
   ]
  },
  {
   "cell_type": "markdown",
   "id": "miniature-boundary",
   "metadata": {},
   "source": [
    "**append()** is used to add items to the end of the list.  Pass the item you want to add as the argument."
   ]
  },
  {
   "cell_type": "code",
   "execution_count": 85,
   "id": "native-titanium",
   "metadata": {},
   "outputs": [
    {
     "name": "stdout",
     "output_type": "stream",
     "text": [
      "['dog', 'cat', 'bird', 'bird', 7, 'human', 10, 10]\n"
     ]
    }
   ],
   "source": [
    "my_list.append(10)\n",
    "\n",
    "print(my_list)"
   ]
  },
  {
   "cell_type": "markdown",
   "id": "special-nursing",
   "metadata": {},
   "source": [
    "**insert()** is used to add items at a particular index but without replacing what is currently there.  Other items are just pushed down one index place."
   ]
  },
  {
   "cell_type": "code",
   "execution_count": 86,
   "id": "quantitative-smoke",
   "metadata": {},
   "outputs": [
    {
     "name": "stdout",
     "output_type": "stream",
     "text": [
      "['dog', 'cat', 'fish', 'bird', 'bird', 7, 'human', 10, 10]\n"
     ]
    }
   ],
   "source": [
    "my_list.insert(2, \"fish\") #the first argument is the index to place it, the second is the item to add\n",
    "\n",
    "print(my_list)"
   ]
  },
  {
   "cell_type": "markdown",
   "id": "cellular-subdivision",
   "metadata": {},
   "source": [
    "**pop()** is generally used to remove the last item from the list.  This function also returns that removed value, so you can store it in a variable too.  However, you can also pass it a specific index number and it will remove and return that value instead."
   ]
  },
  {
   "cell_type": "code",
   "execution_count": 87,
   "id": "alpha-language",
   "metadata": {},
   "outputs": [
    {
     "name": "stdout",
     "output_type": "stream",
     "text": [
      "['dog', 'cat', 'fish', 'bird', 'bird', 7, 'human', 10]\n",
      "10\n"
     ]
    }
   ],
   "source": [
    "item = my_list.pop()\n",
    "print(my_list)\n",
    "print(item)"
   ]
  },
  {
   "cell_type": "markdown",
   "id": "young-organization",
   "metadata": {},
   "source": [
    "**remove()** also removes items from a list, but instead of an index number, you pass it the value you want removed.  It will remove\n",
    "the first instance of the value you specify.  It does not return that value like pop()."
   ]
  },
  {
   "cell_type": "code",
   "execution_count": 89,
   "id": "natural-asset",
   "metadata": {},
   "outputs": [
    {
     "name": "stdout",
     "output_type": "stream",
     "text": [
      "['dog', 'fish', 'bird', 7, 'human', 10]\n"
     ]
    }
   ],
   "source": [
    "my_list.remove(\"cat\")\n",
    "print(my_list)"
   ]
  },
  {
   "cell_type": "markdown",
   "id": "union-explorer",
   "metadata": {},
   "source": [
    "**del** the del keyword (short for delete) can be used to remove values from a list by index number.  It can be used to delete as whole slice.  Without an index or slice, it removes the entire list.  This isn't actually a list method, but a built in keyword, so the syntax is different."
   ]
  },
  {
   "cell_type": "code",
   "execution_count": 90,
   "id": "settled-insulation",
   "metadata": {},
   "outputs": [
    {
     "name": "stdout",
     "output_type": "stream",
     "text": [
      "['dog', 'fish', 'bird', 7, 'human', 10]\n"
     ]
    }
   ],
   "source": [
    "print(my_list)"
   ]
  },
  {
   "cell_type": "code",
   "execution_count": 92,
   "id": "sustained-driver",
   "metadata": {},
   "outputs": [
    {
     "name": "stdout",
     "output_type": "stream",
     "text": [
      "['bird', 7, 'human', 10]\n"
     ]
    }
   ],
   "source": [
    "del my_list[0]\n",
    "print(my_list)"
   ]
  },
  {
   "cell_type": "markdown",
   "id": "animal-texas",
   "metadata": {},
   "source": [
    "When used to delete the list, it doesn't just remove the items, leaving an empty list.  It deletes the entire variable."
   ]
  },
  {
   "cell_type": "code",
   "execution_count": 96,
   "id": "animated-department",
   "metadata": {},
   "outputs": [
    {
     "ename": "NameError",
     "evalue": "name 'my_list' is not defined",
     "output_type": "error",
     "traceback": [
      "\u001b[1;31m---------------------------------------------------------------------------\u001b[0m",
      "\u001b[1;31mNameError\u001b[0m                                 Traceback (most recent call last)",
      "\u001b[1;32m<ipython-input-96-7a103dd61563>\u001b[0m in \u001b[0;36m<module>\u001b[1;34m\u001b[0m\n\u001b[0;32m      1\u001b[0m \u001b[1;32mdel\u001b[0m \u001b[0mmy_list\u001b[0m\u001b[1;33m\u001b[0m\u001b[1;33m\u001b[0m\u001b[0m\n\u001b[1;32m----> 2\u001b[1;33m \u001b[0mprint\u001b[0m\u001b[1;33m(\u001b[0m\u001b[0mmy_list\u001b[0m\u001b[1;33m)\u001b[0m\u001b[1;33m\u001b[0m\u001b[1;33m\u001b[0m\u001b[0m\n\u001b[0m",
      "\u001b[1;31mNameError\u001b[0m: name 'my_list' is not defined"
     ]
    }
   ],
   "source": [
    "del my_list\n",
    "print(my_list)"
   ]
  },
  {
   "cell_type": "markdown",
   "id": "champion-interview",
   "metadata": {},
   "source": [
    "**index()** is used to return the index number of a given value."
   ]
  },
  {
   "cell_type": "code",
   "execution_count": 99,
   "id": "secure-court",
   "metadata": {},
   "outputs": [
    {
     "name": "stdout",
     "output_type": "stream",
     "text": [
      "0\n"
     ]
    }
   ],
   "source": [
    "num = my_list.index(\"dog\")\n",
    "\n",
    "print(num)"
   ]
  },
  {
   "cell_type": "markdown",
   "id": "coastal-walter",
   "metadata": {},
   "source": [
    "**count()** returns the number of times a value appears in a list."
   ]
  },
  {
   "cell_type": "code",
   "execution_count": 100,
   "id": "neutral-montana",
   "metadata": {},
   "outputs": [
    {
     "name": "stdout",
     "output_type": "stream",
     "text": [
      "1\n"
     ]
    }
   ],
   "source": [
    "dogs = my_list.count(\"dog\")\n",
    "\n",
    "print(dogs)"
   ]
  },
  {
   "cell_type": "markdown",
   "id": "august-prerequisite",
   "metadata": {},
   "source": [
    "As we have seen, most list methods alter the original list object.  When you want to preserve the original, you need to create a copy.\n",
    "Then you can work on the original or the copy, leaving the other alone.  However, you can't just assign the value of the original list's variable to a new variable.  Once a list is created, any variables assigned to it will point to the same place in system memory."
   ]
  },
  {
   "cell_type": "code",
   "execution_count": 105,
   "id": "parental-bradford",
   "metadata": {},
   "outputs": [
    {
     "name": "stdout",
     "output_type": "stream",
     "text": [
      "original list:  ['dog', 'cat', 1.5, 7, 'human']\n",
      "original list now:  ['dog', 'cat', 1.5, 7, 'human', 'new item']\n"
     ]
    }
   ],
   "source": [
    "print(\"original list: \",my_list)\n",
    "copy_list = my_list\n",
    "copy_list.append(\"new item\")\n",
    "print(\"original list now: \",my_list)\n"
   ]
  },
  {
   "cell_type": "markdown",
   "id": "activated-circus",
   "metadata": {},
   "source": [
    "**copy()** luckily this function exists to create a true, independant copy of the list.  Be sure to store it in its own variable."
   ]
  },
  {
   "cell_type": "code",
   "execution_count": 106,
   "id": "valid-climate",
   "metadata": {},
   "outputs": [
    {
     "name": "stdout",
     "output_type": "stream",
     "text": [
      "my_list:  ['dog', 'cat', 1.5, 7, 'human', 'new item']\n",
      "copy_list:  ['dog', 'cat', 1.5, 7, 'human', 'new item', 'another new item']\n"
     ]
    }
   ],
   "source": [
    "copy_list = my_list.copy()\n",
    "copy_list.append(\"another new item\")\n",
    "print(\"my_list: \",my_list)\n",
    "print(\"copy_list: \",copy_list)\n"
   ]
  },
  {
   "cell_type": "markdown",
   "id": "historical-pendant",
   "metadata": {},
   "source": [
    "**sort()** sorts list items in alpha or numerical order.  However, it won't work with lists that mix numbers and strings."
   ]
  },
  {
   "cell_type": "code",
   "execution_count": 107,
   "id": "romantic-format",
   "metadata": {},
   "outputs": [
    {
     "ename": "TypeError",
     "evalue": "'<' not supported between instances of 'float' and 'str'",
     "output_type": "error",
     "traceback": [
      "\u001b[1;31m---------------------------------------------------------------------------\u001b[0m",
      "\u001b[1;31mTypeError\u001b[0m                                 Traceback (most recent call last)",
      "\u001b[1;32m<ipython-input-107-3f28988e4cbc>\u001b[0m in \u001b[0;36m<module>\u001b[1;34m\u001b[0m\n\u001b[1;32m----> 1\u001b[1;33m \u001b[0mmy_list\u001b[0m\u001b[1;33m.\u001b[0m\u001b[0msort\u001b[0m\u001b[1;33m(\u001b[0m\u001b[1;33m)\u001b[0m\u001b[1;33m\u001b[0m\u001b[1;33m\u001b[0m\u001b[0m\n\u001b[0m\u001b[0;32m      2\u001b[0m \u001b[0mprint\u001b[0m\u001b[1;33m(\u001b[0m\u001b[0mmy_list\u001b[0m\u001b[1;33m)\u001b[0m\u001b[1;33m\u001b[0m\u001b[1;33m\u001b[0m\u001b[0m\n",
      "\u001b[1;31mTypeError\u001b[0m: '<' not supported between instances of 'float' and 'str'"
     ]
    }
   ],
   "source": [
    "my_list.sort()\n",
    "print(my_list)"
   ]
  },
  {
   "cell_type": "code",
   "execution_count": 108,
   "id": "packed-boston",
   "metadata": {},
   "outputs": [
    {
     "name": "stdout",
     "output_type": "stream",
     "text": [
      "['cat', 'dog', 'fish', 'human']\n"
     ]
    }
   ],
   "source": [
    "new_list = [\"dog\", \"human\", \"cat\", \"fish\"]\n",
    "new_list.sort()\n",
    "print(new_list)"
   ]
  },
  {
   "cell_type": "markdown",
   "id": "israeli-appeal",
   "metadata": {},
   "source": [
    "If you want to sort the list while leaving the original alone, you can use copy(), however there is another built in function that does the job.\n",
    "**sorted()** returns a new list sorted, so you can also assign it to a new variable.  Because it isn't a list method, the syntax is different."
   ]
  },
  {
   "cell_type": "code",
   "execution_count": 113,
   "id": "expanded-plastic",
   "metadata": {},
   "outputs": [
    {
     "name": "stdout",
     "output_type": "stream",
     "text": [
      "original list:  [23, 45, 10, 5]\n",
      "x = [5, 10, 23, 45]\n"
     ]
    }
   ],
   "source": [
    "numlist = [23, 45, 10, 5]\n",
    "x = sorted(numlist)\n",
    "\n",
    "print(\"original list: \",numlist)\n",
    "\n",
    "print(\"x =\",x)"
   ]
  },
  {
   "cell_type": "markdown",
   "id": "assumed-rough",
   "metadata": {},
   "source": [
    "**reverse()** is a list method.  It reverses the order of the original list.  Use copy() first if you want to keep the original.\n",
    "You could also assign a reversed slice of the entire list to a new variable."
   ]
  },
  {
   "cell_type": "code",
   "execution_count": 115,
   "id": "whole-yacht",
   "metadata": {},
   "outputs": [
    {
     "name": "stdout",
     "output_type": "stream",
     "text": [
      "[45, 23, 10, 5]\n"
     ]
    }
   ],
   "source": [
    "revlist = x.copy()\n",
    "revlist.reverse()\n",
    "print(revlist)"
   ]
  },
  {
   "cell_type": "code",
   "execution_count": 116,
   "id": "laughing-belgium",
   "metadata": {},
   "outputs": [
    {
     "name": "stdout",
     "output_type": "stream",
     "text": [
      "[45, 23, 10, 5]\n"
     ]
    }
   ],
   "source": [
    "print(x[::-1])"
   ]
  },
  {
   "cell_type": "markdown",
   "id": "individual-tunnel",
   "metadata": {},
   "source": [
    "## Looping Through Lists\n",
    "Now you can combine what we know about strings, lists and loops to perform a wider array of tasks."
   ]
  },
  {
   "cell_type": "code",
   "execution_count": 117,
   "id": "overhead-clearing",
   "metadata": {},
   "outputs": [],
   "source": [
    "a_string = \"Hello world my name is David!\""
   ]
  },
  {
   "cell_type": "code",
   "execution_count": 118,
   "id": "appreciated-fellow",
   "metadata": {},
   "outputs": [
    {
     "name": "stdout",
     "output_type": "stream",
     "text": [
      "['Hello', 'world', 'my', 'name', 'is', 'David!']\n"
     ]
    }
   ],
   "source": [
    "split_string = a_string.split()\n",
    "print(split_string)"
   ]
  },
  {
   "cell_type": "code",
   "execution_count": 119,
   "id": "bridal-flooring",
   "metadata": {},
   "outputs": [
    {
     "name": "stdout",
     "output_type": "stream",
     "text": [
      "['my', 'is']\n"
     ]
    }
   ],
   "source": [
    "short_words = []\n",
    "\n",
    "for x in split_string:\n",
    "    if len(x) < 3:\n",
    "        short_words.append(x)\n",
    "        \n",
    "print(short_words)"
   ]
  },
  {
   "cell_type": "markdown",
   "id": "surface-prince",
   "metadata": {},
   "source": [
    "**Another Example**"
   ]
  },
  {
   "cell_type": "code",
   "execution_count": 125,
   "id": "periodic-system",
   "metadata": {},
   "outputs": [
    {
     "name": "stdout",
     "output_type": "stream",
     "text": [
      "olleH dlrow ym eman si !divaD\n"
     ]
    }
   ],
   "source": [
    "rev_words = []\n",
    "for x in split_string:\n",
    "    rev_words.append(x[::-1])\n",
    "    \n",
    "print(\" \".join(rev_words))"
   ]
  },
  {
   "cell_type": "code",
   "execution_count": null,
   "id": "native-chart",
   "metadata": {},
   "outputs": [],
   "source": []
  }
 ],
 "metadata": {
  "kernelspec": {
   "display_name": "Python 3",
   "language": "python",
   "name": "python3"
  },
  "language_info": {
   "codemirror_mode": {
    "name": "ipython",
    "version": 3
   },
   "file_extension": ".py",
   "mimetype": "text/x-python",
   "name": "python",
   "nbconvert_exporter": "python",
   "pygments_lexer": "ipython3",
   "version": "3.8.7"
  }
 },
 "nbformat": 4,
 "nbformat_minor": 5
}
