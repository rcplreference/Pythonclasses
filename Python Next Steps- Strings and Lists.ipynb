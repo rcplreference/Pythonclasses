{
 "cells": [
  {
   "cell_type": "markdown",
   "id": "talented-sensitivity",
   "metadata": {},
   "source": []
  },
  {
   "cell_type": "markdown",
   "id": "taken-better",
   "metadata": {},
   "source": [
    "# Python Next Steps - Strings and Lists"
   ]
  },
  {
   "cell_type": "markdown",
   "id": "metallic-romance",
   "metadata": {},
   "source": [
    "## Strings\n",
    "Strings are sequences of characters whether letters, numbers or symbols.  They are enclosed in quotation marks.\n",
    "We have already covered using + to concatenate and * to repeat strings.  This class expands on ways of working with strings."
   ]
  },
  {
   "cell_type": "markdown",
   "id": "roman-template",
   "metadata": {},
   "source": [
    "### Escape Characters\n",
    "The \\ blackslash is used in combination with certain characters to form what are called escape characters. Escape characters are inserted directly into a string, but serve special purposes.  The following are a few useful ones to know:"
   ]
  },
  {
   "cell_type": "markdown",
   "id": "aboriginal-winner",
   "metadata": {},
   "source": [
    "**New line break - \\n tells Python to insert a line break, allowing you to break up text as it prints**"
   ]
  },
  {
   "cell_type": "code",
   "execution_count": 1,
   "id": "wicked-promise",
   "metadata": {},
   "outputs": [
    {
     "name": "stdout",
     "output_type": "stream",
     "text": [
      "these words\n",
      "will print\n",
      "line\n",
      "by\n",
      "line\n"
     ]
    }
   ],
   "source": [
    "print(\"these words\\nwill print\\nline\\nby\\nline\")"
   ]
  },
  {
   "cell_type": "markdown",
   "id": "wireless-sperm",
   "metadata": {},
   "source": [
    "**Tab - \\t lets you insert tab length spaces.**"
   ]
  },
  {
   "cell_type": "code",
   "execution_count": 5,
   "id": "moving-lambda",
   "metadata": {},
   "outputs": [
    {
     "name": "stdout",
     "output_type": "stream",
     "text": [
      "\tspacing can\tbe\teasier\n"
     ]
    }
   ],
   "source": [
    "print(\"\\tspacing can\\tbe\\teasier\")"
   ]
  },
  {
   "cell_type": "markdown",
   "id": "supported-province",
   "metadata": {},
   "source": [
    "**Quotes - \\\\' and \\\\\" - if you want to force Python to allow a certain quote mark style in a string and for use with apostrophes.** "
   ]
  },
  {
   "cell_type": "code",
   "execution_count": 7,
   "id": "fossil-identification",
   "metadata": {},
   "outputs": [
    {
     "name": "stdout",
     "output_type": "stream",
     "text": [
      "Don't forget your \"escape characters.\"\n"
     ]
    }
   ],
   "source": [
    "print(\"Don\\'t forget your \\\"escape characters.\\\"\")"
   ]
  },
  {
   "cell_type": "markdown",
   "id": "three-cause",
   "metadata": {},
   "source": [
    "**Backslash - \\\\ for when you actually need a backslash in the string, helpful when dealing with paths or urls in strings.**"
   ]
  },
  {
   "cell_type": "code",
   "execution_count": 9,
   "id": "invalid-platinum",
   "metadata": {},
   "outputs": [
    {
     "name": "stdout",
     "output_type": "stream",
     "text": [
      "c:\\Home\\Backslash\\\n"
     ]
    }
   ],
   "source": [
    "print(\"c:\\\\Home\\\\Backslash\\\\\")"
   ]
  },
  {
   "cell_type": "markdown",
   "id": "prompt-yeast",
   "metadata": {},
   "source": [
    "### Length\n",
    "Determining the length of a string can be done with the len() function.  This is a built in function that works on other data types as well."
   ]
  },
  {
   "cell_type": "code",
   "execution_count": 2,
   "id": "individual-iraqi",
   "metadata": {},
   "outputs": [
    {
     "data": {
      "text/plain": [
       "16"
      ]
     },
     "execution_count": 2,
     "metadata": {},
     "output_type": "execute_result"
    }
   ],
   "source": [
    "a = \"Here is a string\"\n",
    "len(a)"
   ]
  },
  {
   "cell_type": "markdown",
   "id": "undefined-format",
   "metadata": {},
   "source": [
    "Dont forget that spaces are characters too!"
   ]
  },
  {
   "cell_type": "markdown",
   "id": "deadly-camcorder",
   "metadata": {},
   "source": [
    "## String Functions"
   ]
  },
  {
   "cell_type": "markdown",
   "id": "close-multiple",
   "metadata": {},
   "source": [
    "In the intro class we briefly touched upon the fact that each data type has functions of their own.  These functions are built into the \n",
    "object classes for each data type.  Because these functions belong to the object, in this case strings, they use a slightly different syntax\n",
    "than we have used so far, sometimes called \"dot notation.\" The string or variable name is followed by a period then the function call.  These types of functions are also referred to as \"methods.\"  "
   ]
  },
  {
   "cell_type": "markdown",
   "id": "selective-master",
   "metadata": {},
   "source": [
    "### Strings are immutable\n",
    "Don't forget that string objects can't be changed.  There are various reasons Python has implemented strings in this fashion.  Methods that make apparent alterations actually create new string objects.  These will need to be saved in a variable to preserve them for future use or simply used in the context of another function.  Running these replace functions will not change the original string.  That is why we can call all of these functions without seeing any cumulative changes."
   ]
  },
  {
   "cell_type": "code",
   "execution_count": 13,
   "id": "correct-diagnosis",
   "metadata": {},
   "outputs": [
    {
     "data": {
      "text/plain": [
       "'HERE IS A STRING'"
      ]
     },
     "execution_count": 13,
     "metadata": {},
     "output_type": "execute_result"
    }
   ],
   "source": [
    "a.upper() #the upper and lower methods are useful for normalizing user input for internal use"
   ]
  },
  {
   "cell_type": "code",
   "execution_count": 14,
   "id": "therapeutic-plaza",
   "metadata": {},
   "outputs": [
    {
     "data": {
      "text/plain": [
       "'here is a string'"
      ]
     },
     "execution_count": 14,
     "metadata": {},
     "output_type": "execute_result"
    }
   ],
   "source": [
    "a.lower()"
   ]
  },
  {
   "cell_type": "markdown",
   "id": "local-entertainment",
   "metadata": {},
   "source": [
    "And there are several other capitalization functions: \n",
    "capitalize() for capitalizing the first word of a string\n",
    "title() for capitalizing each word\n",
    "swapcase() for inverting the case of each letter in a string"
   ]
  },
  {
   "cell_type": "code",
   "execution_count": 33,
   "id": "built-extent",
   "metadata": {},
   "outputs": [
    {
     "data": {
      "text/plain": [
       "['Here', 'is', 'a', 'string']"
      ]
     },
     "execution_count": 33,
     "metadata": {},
     "output_type": "execute_result"
    }
   ],
   "source": [
    "a.split() #the default is to split at each space character"
   ]
  },
  {
   "cell_type": "markdown",
   "id": "light-finnish",
   "metadata": {},
   "source": [
    "Splitting a string results in a list.  We will cover things you can do with a list later.  Do note that splitting a single word string or an entire string into individual letters requires another technique."
   ]
  },
  {
   "cell_type": "code",
   "execution_count": 35,
   "id": "dangerous-kitchen",
   "metadata": {},
   "outputs": [
    {
     "data": {
      "text/plain": [
       "['Here ', 's a str', 'ng']"
      ]
     },
     "execution_count": 35,
     "metadata": {},
     "output_type": "execute_result"
    }
   ],
   "source": [
    "a.split(\"i\") #you can specify where the split happens, though that character will not appear in the resulting string"
   ]
  },
  {
   "cell_type": "markdown",
   "id": "seasonal-tissue",
   "metadata": {},
   "source": [
    "using .split(\",\") could be useful if you have imported data in the form of comman separated values."
   ]
  },
  {
   "cell_type": "code",
   "execution_count": 3,
   "id": "premier-banana",
   "metadata": {},
   "outputs": [
    {
     "data": {
      "text/plain": [
       "'H-e-r-e- -i-s- -a- -s-t-r-i-n-g'"
      ]
     },
     "execution_count": 3,
     "metadata": {},
     "output_type": "execute_result"
    }
   ],
   "source": [
    "\"-\".join(a) #note that the joining character comes first.  Technically this is calling the join method on the string \"-\", not variable a"
   ]
  },
  {
   "cell_type": "code",
   "execution_count": 30,
   "id": "perfect-happening",
   "metadata": {},
   "outputs": [
    {
     "data": {
      "text/plain": [
       "'This is a string'"
      ]
     },
     "execution_count": 30,
     "metadata": {},
     "output_type": "execute_result"
    }
   ],
   "source": [
    "a.replace(\"Here\", \"This\")"
   ]
  },
  {
   "cell_type": "code",
   "execution_count": 31,
   "id": "trying-conjunction",
   "metadata": {},
   "outputs": [
    {
     "data": {
      "text/plain": [
       "'Hereisastring'"
      ]
     },
     "execution_count": 31,
     "metadata": {},
     "output_type": "execute_result"
    }
   ],
   "source": [
    "a.replace(\" \", \"\") #You can replace spaces too, this trick essentially removes all internal spaces"
   ]
  },
  {
   "cell_type": "code",
   "execution_count": 36,
   "id": "frozen-privilege",
   "metadata": {},
   "outputs": [
    {
     "data": {
      "text/plain": [
       "'Hereis a string'"
      ]
     },
     "execution_count": 36,
     "metadata": {},
     "output_type": "execute_result"
    }
   ],
   "source": [
    "a.replace(\" \", \"\", 1) #takes an optional 3rd parameter for the max number of replacements to perform"
   ]
  },
  {
   "cell_type": "code",
   "execution_count": 56,
   "id": "ordered-welcome",
   "metadata": {},
   "outputs": [
    {
     "name": "stdout",
     "output_type": "stream",
     "text": [
      "\tHere is a string with extra whitespaces\t\t\n"
     ]
    }
   ],
   "source": [
    "x = \"\\tHere is a string with extra whitespaces\\t\\t\"\n",
    "print(x)"
   ]
  },
  {
   "cell_type": "code",
   "execution_count": 57,
   "id": "incorporate-talent",
   "metadata": {},
   "outputs": [
    {
     "name": "stdout",
     "output_type": "stream",
     "text": [
      "Here is a string with extra whitespaces\n"
     ]
    }
   ],
   "source": [
    "nospace = x.strip() #strip() removes whitespace from the begining and/or end of the string\n",
    "print(nospace)"
   ]
  },
  {
   "cell_type": "markdown",
   "id": "equipped-rendering",
   "metadata": {},
   "source": [
    "Just to be complete, there are also lstrip() and rstrip() functions that remove whitespace only from the left or right sides.\n",
    "For all three strip methods you can also pass in an argument if you want to remove some other character at the edges.  This could even be part of the string that is at one end."
   ]
  },
  {
   "cell_type": "code",
   "execution_count": 59,
   "id": "improved-telephone",
   "metadata": {},
   "outputs": [
    {
     "name": "stdout",
     "output_type": "stream",
     "text": [
      "Here is a string with extra whitespa\n"
     ]
    }
   ],
   "source": [
    "print(nospace.rstrip(\"ces\"))"
   ]
  },
  {
   "cell_type": "markdown",
   "id": "palestinian-edwards",
   "metadata": {},
   "source": [
    "## String Indexing"
   ]
  },
  {
   "cell_type": "markdown",
   "id": "bigger-roulette",
   "metadata": {},
   "source": [
    "There will be times when you want to act upon a specific character of a string.  Each character in a string can be individually accessed via an index number.  Python uses zero based indexing, so all counting begins\n",
    "with the index number of 0.  Also note that all characters, including spaces and punctuation marks form part of the count."
   ]
  },
  {
   "cell_type": "markdown",
   "id": "virgin-parish",
   "metadata": {},
   "source": [
    "To access or specify a certain character you use bracket notation.  The string or the variable name is followed by [].\n",
    "Inside the bracket, you will enter the index number of the character you want.  This sub-string object could be saved in a new variable or used within a function."
   ]
  },
  {
   "cell_type": "code",
   "execution_count": 4,
   "id": "hired-cooperative",
   "metadata": {},
   "outputs": [
    {
     "name": "stdout",
     "output_type": "stream",
     "text": [
      "H\n"
     ]
    }
   ],
   "source": [
    "print(a[0]) #this will print the first character in variable a"
   ]
  },
  {
   "cell_type": "markdown",
   "id": "improved-philosophy",
   "metadata": {},
   "source": [
    "You can also access characters using negative index numbers.  When doing so, -1 will be the index of the last character in the string,\n",
    "-2 is the next to last, and so on.  This is useful when you know you want the end of a string, but don't know how long it is or will be."
   ]
  },
  {
   "cell_type": "code",
   "execution_count": 39,
   "id": "convenient-triumph",
   "metadata": {},
   "outputs": [
    {
     "name": "stdout",
     "output_type": "stream",
     "text": [
      "g\n"
     ]
    }
   ],
   "source": [
    "print(a[-1])"
   ]
  },
  {
   "cell_type": "markdown",
   "id": "rural-shelf",
   "metadata": {},
   "source": [
    "If you overshoot the actual length of the string and give an index number that is too high or too low, you will receive an error."
   ]
  },
  {
   "cell_type": "code",
   "execution_count": 40,
   "id": "fleet-garage",
   "metadata": {},
   "outputs": [
    {
     "ename": "IndexError",
     "evalue": "string index out of range",
     "output_type": "error",
     "traceback": [
      "\u001b[1;31m---------------------------------------------------------------------------\u001b[0m",
      "\u001b[1;31mIndexError\u001b[0m                                Traceback (most recent call last)",
      "\u001b[1;32m<ipython-input-40-a949d905987c>\u001b[0m in \u001b[0;36m<module>\u001b[1;34m\u001b[0m\n\u001b[1;32m----> 1\u001b[1;33m \u001b[0mprint\u001b[0m\u001b[1;33m(\u001b[0m\u001b[0ma\u001b[0m\u001b[1;33m[\u001b[0m\u001b[1;36m20\u001b[0m\u001b[1;33m]\u001b[0m\u001b[1;33m)\u001b[0m\u001b[1;33m\u001b[0m\u001b[1;33m\u001b[0m\u001b[0m\n\u001b[0m",
      "\u001b[1;31mIndexError\u001b[0m: string index out of range"
     ]
    }
   ],
   "source": [
    "print(a[20])"
   ]
  },
  {
   "cell_type": "markdown",
   "id": "korean-optimization",
   "metadata": {},
   "source": [
    "The above technique will return the value at an index.  However, it can also be useful to get the index of a known value."
   ]
  },
  {
   "cell_type": "code",
   "execution_count": 64,
   "id": "intellectual-message",
   "metadata": {},
   "outputs": [
    {
     "name": "stdout",
     "output_type": "stream",
     "text": [
      "Here is a string\n",
      "5\n",
      "-1\n"
     ]
    }
   ],
   "source": [
    "print(a)\n",
    "print(a.find(\"is\")) # will return the index where this sub-string begins\n",
    "print(a.find(\"error\")) # will return -1 if value is not found in the string"
   ]
  },
  {
   "cell_type": "code",
   "execution_count": 65,
   "id": "secondary-immigration",
   "metadata": {},
   "outputs": [
    {
     "name": "stdout",
     "output_type": "stream",
     "text": [
      "Here is a string\n",
      "5\n"
     ]
    },
    {
     "ename": "ValueError",
     "evalue": "substring not found",
     "output_type": "error",
     "traceback": [
      "\u001b[1;31m---------------------------------------------------------------------------\u001b[0m",
      "\u001b[1;31mValueError\u001b[0m                                Traceback (most recent call last)",
      "\u001b[1;32m<ipython-input-65-ae46b70e7bb9>\u001b[0m in \u001b[0;36m<module>\u001b[1;34m\u001b[0m\n\u001b[0;32m      1\u001b[0m \u001b[0mprint\u001b[0m\u001b[1;33m(\u001b[0m\u001b[0ma\u001b[0m\u001b[1;33m)\u001b[0m\u001b[1;33m\u001b[0m\u001b[1;33m\u001b[0m\u001b[0m\n\u001b[0;32m      2\u001b[0m \u001b[0mprint\u001b[0m\u001b[1;33m(\u001b[0m\u001b[0ma\u001b[0m\u001b[1;33m.\u001b[0m\u001b[0mindex\u001b[0m\u001b[1;33m(\u001b[0m\u001b[1;34m\"is\"\u001b[0m\u001b[1;33m)\u001b[0m\u001b[1;33m)\u001b[0m \u001b[1;31m# acts almost identically to find()\u001b[0m\u001b[1;33m\u001b[0m\u001b[1;33m\u001b[0m\u001b[0m\n\u001b[1;32m----> 3\u001b[1;33m \u001b[0mprint\u001b[0m\u001b[1;33m(\u001b[0m\u001b[0ma\u001b[0m\u001b[1;33m.\u001b[0m\u001b[0mindex\u001b[0m\u001b[1;33m(\u001b[0m\u001b[1;34m\"error\"\u001b[0m\u001b[1;33m)\u001b[0m\u001b[1;33m)\u001b[0m \u001b[1;31m#except gives an error if value is not found in the string\u001b[0m\u001b[1;33m\u001b[0m\u001b[1;33m\u001b[0m\u001b[0m\n\u001b[0m",
      "\u001b[1;31mValueError\u001b[0m: substring not found"
     ]
    }
   ],
   "source": [
    "print(a)\n",
    "print(a.index(\"is\")) # acts almost identically to find()\n",
    "print(a.index(\"error\")) #except gives an error if value is not found in the string"
   ]
  },
  {
   "cell_type": "markdown",
   "id": "received-export",
   "metadata": {},
   "source": [
    "Keep in mind these index finding tools start at the beginning and stop at the first occurrence of the value sought.  To find a later occurrence or all occurrences will require other techniques."
   ]
  },
  {
   "cell_type": "markdown",
   "id": "sexual-bandwidth",
   "metadata": {},
   "source": [
    "### Slicing"
   ]
  },
  {
   "cell_type": "markdown",
   "id": "recent-optimum",
   "metadata": {},
   "source": [
    "Using the same bracket notation, you can create a range of characater indexes that will give you a \"slice\" or sub-string of the original.\n",
    "Inside the brackets enter the first index you want followed by a colon.  Then enter the index of one character past where you want to end.  Like the range() function, the second number is a stop number and isn't actually included in the result.\n",
    "Absorbing the concepts of 0 based indexing and this use of stop numbers tend to be important hurdles for beginners."
   ]
  },
  {
   "cell_type": "code",
   "execution_count": 43,
   "id": "operational-cheat",
   "metadata": {},
   "outputs": [
    {
     "name": "stdout",
     "output_type": "stream",
     "text": [
      "is\n"
     ]
    }
   ],
   "source": [
    "print(a[5:7]) #returns the third through 9th characters."
   ]
  },
  {
   "cell_type": "markdown",
   "id": "spare-authentication",
   "metadata": {},
   "source": [
    "If you don't specify a starting index, it begins at 0"
   ]
  },
  {
   "cell_type": "code",
   "execution_count": 44,
   "id": "typical-frontier",
   "metadata": {},
   "outputs": [
    {
     "name": "stdout",
     "output_type": "stream",
     "text": [
      "Here is\n"
     ]
    }
   ],
   "source": [
    "print(a[:7])"
   ]
  },
  {
   "cell_type": "markdown",
   "id": "latest-priest",
   "metadata": {},
   "source": [
    "If you don't specify a stop number, it will slice to the end."
   ]
  },
  {
   "cell_type": "code",
   "execution_count": 45,
   "id": "periodic-partnership",
   "metadata": {},
   "outputs": [
    {
     "name": "stdout",
     "output_type": "stream",
     "text": [
      " a string\n"
     ]
    }
   ],
   "source": [
    "print(a[7:])"
   ]
  },
  {
   "cell_type": "markdown",
   "id": "precious-blake",
   "metadata": {},
   "source": [
    "If you leave both sides of the colon blank, you get the whole string"
   ]
  },
  {
   "cell_type": "code",
   "execution_count": 46,
   "id": "logical-integrity",
   "metadata": {},
   "outputs": [
    {
     "name": "stdout",
     "output_type": "stream",
     "text": [
      "Here is a string\n"
     ]
    }
   ],
   "source": [
    "print(a[:])"
   ]
  },
  {
   "cell_type": "markdown",
   "id": "racial-kelly",
   "metadata": {},
   "source": [
    "Negative numbers can be used with slicing too.  Using a negative start number can get you a substring off the end when you don't know\n",
    "how long your string really is or will be.  The last character is at index -1, the second to last at -2, and so on.  This can feel confusing when you have just learned to start counting from the left with 0."
   ]
  },
  {
   "cell_type": "code",
   "execution_count": 48,
   "id": "grateful-context",
   "metadata": {},
   "outputs": [
    {
     "name": "stdout",
     "output_type": "stream",
     "text": [
      "string\n"
     ]
    }
   ],
   "source": [
    "print(a[-6:]) #starts 6 characters from the end and then goes to the end"
   ]
  },
  {
   "cell_type": "markdown",
   "id": "floppy-bottom",
   "metadata": {},
   "source": [
    "Using negative stop numbers works too.  This will stop the slice at some point before the end of the string"
   ]
  },
  {
   "cell_type": "code",
   "execution_count": 49,
   "id": "daily-airplane",
   "metadata": {},
   "outputs": [
    {
     "name": "stdout",
     "output_type": "stream",
     "text": [
      "str\n"
     ]
    }
   ],
   "source": [
    "print(a[-6:-3]) #gives the sixth to last through the fourth to last since -3 is the stop number."
   ]
  },
  {
   "cell_type": "code",
   "execution_count": 80,
   "id": "understanding-ground",
   "metadata": {},
   "outputs": [
    {
     "name": "stdout",
     "output_type": "stream",
     "text": [
      "Here is a string\n"
     ]
    }
   ],
   "source": [
    "print(a[:30]) #unlike accessing individual characters, using an index number outside the length of the string will not error."
   ]
  },
  {
   "cell_type": "markdown",
   "id": "suffering-monday",
   "metadata": {},
   "source": [
    "As with the range function, index slices can take a third number, indicating the step.  It will begin with the first index given, then moves the step number of index places until it gets to or passes the stop number."
   ]
  },
  {
   "cell_type": "code",
   "execution_count": 74,
   "id": "expensive-timeline",
   "metadata": {},
   "outputs": [
    {
     "name": "stdout",
     "output_type": "stream",
     "text": [
      "Hr sanwsrn\n",
      "eei  e tig\n"
     ]
    }
   ],
   "source": [
    "b = \"Here is a new string\"\n",
    "print(b[::2]) # starts at index 0 and then goes through the entire string, giving every other character\n",
    "print(b[1::2]) #will start at the second character and every other character from that point"
   ]
  },
  {
   "cell_type": "markdown",
   "id": "unnecessary-biodiversity",
   "metadata": {},
   "source": [
    "Don't forget that spaces are indexed characters too.  If you really just want every other letter, you will need another technique.  There are multiple ways of doing this, but a simple one based on what we've covered is to first use the replace() function to replace spaces \" \" with empty strings \"\".  Then take a slice of that new, space free string.  Because of the object oriented nature of Python, you can do it in one step."
   ]
  },
  {
   "cell_type": "code",
   "execution_count": 75,
   "id": "efficient-solomon",
   "metadata": {},
   "outputs": [
    {
     "data": {
      "text/plain": [
       "'Hriaesrn'"
      ]
     },
     "execution_count": 75,
     "metadata": {},
     "output_type": "execute_result"
    }
   ],
   "source": [
    "b.replace(\" \", \"\")[::2]"
   ]
  },
  {
   "cell_type": "markdown",
   "id": "piano-fiction",
   "metadata": {},
   "source": [
    "One more trick is reversing a whole string using a negative step number. Leave the first two numbers out and give it a -1 step."
   ]
  },
  {
   "cell_type": "code",
   "execution_count": 54,
   "id": "sophisticated-hypothetical",
   "metadata": {},
   "outputs": [
    {
     "name": "stdout",
     "output_type": "stream",
     "text": [
      "gnirts wen a si ereH\n"
     ]
    }
   ],
   "source": [
    "print(b[::-1])"
   ]
  },
  {
   "cell_type": "markdown",
   "id": "intellectual-shower",
   "metadata": {},
   "source": [
    "Howevever, you can also use negative start, stop and step numbers to get a reversed sub-string.  Just remember that the character at the stop number index isn't included in the result and a negative step number is required to move backwards."
   ]
  },
  {
   "cell_type": "code",
   "execution_count": 76,
   "id": "fifteen-kentucky",
   "metadata": {},
   "outputs": [
    {
     "name": "stdout",
     "output_type": "stream",
     "text": [
      "gnirts\n",
      "\n"
     ]
    }
   ],
   "source": [
    "print(b[-1:-7:-1]) #gives the last 6 characters in reverse order.\n",
    "print(b[-1:-7]) #doesn't work, but doesn't give an error.  It returns an empty string"
   ]
  },
  {
   "cell_type": "markdown",
   "id": "humanitarian-catalyst",
   "metadata": {},
   "source": [
    "Index numbers can also be generated by functions"
   ]
  },
  {
   "cell_type": "code",
   "execution_count": 72,
   "id": "fitted-league",
   "metadata": {},
   "outputs": [
    {
     "name": "stdout",
     "output_type": "stream",
     "text": [
      "is a new string\n"
     ]
    }
   ],
   "source": [
    "print(b[b.find(\"is\"):]) #slices a string starting with the index number returned from a find() function"
   ]
  },
  {
   "cell_type": "code",
   "execution_count": null,
   "id": "breeding-loading",
   "metadata": {},
   "outputs": [],
   "source": []
  },
  {
   "cell_type": "markdown",
   "id": "entitled-married",
   "metadata": {},
   "source": [
    "## in and not in"
   ]
  },
  {
   "cell_type": "markdown",
   "id": "foreign-psychology",
   "metadata": {},
   "source": [
    "The keyword \"in\" or combined with the boolean operator \"not\", can be used to test if a string contains a specific character or substring.\n",
    "The result of such an expression will be a boolean, True or False."
   ]
  },
  {
   "cell_type": "code",
   "execution_count": 9,
   "id": "professional-friday",
   "metadata": {},
   "outputs": [
    {
     "name": "stdout",
     "output_type": "stream",
     "text": [
      "True False\n"
     ]
    }
   ],
   "source": [
    "my_string = \"Hello World!\"\n",
    "\n",
    "h = \"Hello\" in my_string\n",
    "n = \"something\"in my_string\n",
    "\n",
    "print(h, n)"
   ]
  },
  {
   "cell_type": "markdown",
   "id": "honey-manhattan",
   "metadata": {},
   "source": [
    "## String Formatting\n",
    "There are a number of techniques related to creating and printing strings to include values from variables or lists.  The preferred method has changed as newer versions of Python have been released.  Currently \"f strings\" are in fashion.  They syntax is fairly simple and is at least helpful to recognize if you should run across it.\n",
    "\n",
    "There is a letter f just outside the opening quotation mark.  Any place inside the string can have an external value inserted by entering the variable name or function inside {} brackets.  In this way, text can easily be changed based on different input."
   ]
  },
  {
   "cell_type": "code",
   "execution_count": 73,
   "id": "transsexual-termination",
   "metadata": {},
   "outputs": [
    {
     "name": "stdout",
     "output_type": "stream",
     "text": [
      "Hello, David, you are welcome\n"
     ]
    }
   ],
   "source": [
    "name = \"David\"\n",
    "word = \"welcome\"\n",
    "print(f\"Hello, {name}, you are {word}\")"
   ]
  },
  {
   "cell_type": "markdown",
   "id": "illegal-harvest",
   "metadata": {},
   "source": [
    "## Lists"
   ]
  },
  {
   "cell_type": "markdown",
   "id": "resident-balloon",
   "metadata": {},
   "source": [
    "Lists are another sequence data type.  You will also sometimes see them called arrays.  They are used to collect multiple values or \"items.\" These items don't have to be the same kind of data.  It could contain any assortment of numbers, letters, strings, and more.\n",
    "\n",
    "The key syntax is that a list is contained in square brackes [] just like the string slice notation and the items are comma separated."
   ]
  },
  {
   "cell_type": "code",
   "execution_count": 18,
   "id": "close-milwaukee",
   "metadata": {},
   "outputs": [
    {
     "name": "stdout",
     "output_type": "stream",
     "text": [
      "['dog', 'cat', 1.5, 7, 'human']\n"
     ]
    }
   ],
   "source": [
    "my_list = [\"dog\", \"cat\", 1.5, 7, \"human\"]\n",
    "print(my_list)\n"
   ]
  },
  {
   "cell_type": "markdown",
   "id": "human-maker",
   "metadata": {},
   "source": [
    "A list can exist with any number of items, including no items.  Lists with no items are called an empty list.  Sometimes you will need to create these to be filled later by other code."
   ]
  },
  {
   "cell_type": "code",
   "execution_count": 97,
   "id": "precious-rental",
   "metadata": {},
   "outputs": [
    {
     "name": "stdout",
     "output_type": "stream",
     "text": [
      "[]\n"
     ]
    }
   ],
   "source": [
    "empty = []\n",
    "print(empty)"
   ]
  },
  {
   "cell_type": "markdown",
   "id": "grave-colombia",
   "metadata": {},
   "source": [
    "The len() function works the same with lists to give you the number of items.  Concatenation with + and repetition with * do too.  Remember when concatenating the objects must be of the same data type, so anything you want to add this way must be contained in a list too, even single items."
   ]
  },
  {
   "cell_type": "code",
   "execution_count": 68,
   "id": "monetary-latter",
   "metadata": {},
   "outputs": [
    {
     "name": "stdout",
     "output_type": "stream",
     "text": [
      "5\n",
      "['dog', 'cat', 1.5, 7, 'human', 'one more item']\n",
      "['dog', 'cat', 1.5, 7, 'human', 'dog', 'cat', 1.5, 7, 'human', 'dog', 'cat', 1.5, 7, 'human']\n"
     ]
    }
   ],
   "source": [
    "print(len(my_list))\n",
    "\n",
    "print(my_list + [\"one more item\"])\n",
    "\n",
    "print(my_list * 3)"
   ]
  },
  {
   "cell_type": "markdown",
   "id": "appointed-lesson",
   "metadata": {},
   "source": [
    "Like strings, the items in lists are indexed, so can be accessed and sliced just like string using the same notation.\n",
    "Slice notation works the same as well."
   ]
  },
  {
   "cell_type": "code",
   "execution_count": 64,
   "id": "healthy-experience",
   "metadata": {},
   "outputs": [
    {
     "name": "stdout",
     "output_type": "stream",
     "text": [
      "1.5\n"
     ]
    }
   ],
   "source": [
    "print(my_list[2])"
   ]
  },
  {
   "cell_type": "code",
   "execution_count": 65,
   "id": "mexican-longitude",
   "metadata": {},
   "outputs": [
    {
     "name": "stdout",
     "output_type": "stream",
     "text": [
      "['dog', 'cat', 1.5, 7]\n"
     ]
    }
   ],
   "source": [
    "print(my_list[:4])"
   ]
  },
  {
   "cell_type": "code",
   "execution_count": 66,
   "id": "painful-produce",
   "metadata": {},
   "outputs": [
    {
     "name": "stdout",
     "output_type": "stream",
     "text": [
      "human\n"
     ]
    }
   ],
   "source": [
    "print(my_list[-1])"
   ]
  },
  {
   "cell_type": "markdown",
   "id": "broke-pioneer",
   "metadata": {},
   "source": [
    "Unlike strings, lists are mutable.  Changes to the list change the original object.  For instance, you can directly reassign the value at a given index."
   ]
  },
  {
   "cell_type": "code",
   "execution_count": 11,
   "id": "announced-findings",
   "metadata": {},
   "outputs": [
    {
     "name": "stdout",
     "output_type": "stream",
     "text": [
      "['dog', 'cat', 'bird', 7, 'human']\n"
     ]
    }
   ],
   "source": [
    "my_list[2] = \"bird\"\n",
    "\n",
    "print(my_list)"
   ]
  },
  {
   "cell_type": "markdown",
   "id": "visible-canvas",
   "metadata": {},
   "source": [
    "### List Functions\n",
    "List have their own functions or methods to accomplish all sorts of tasks.  The same dot notation is used as with strings.  Just keep in mind that these will change the original list, even if you try to assign them as values to a new variable.  Also remember they don't work on strings."
   ]
  },
  {
   "cell_type": "markdown",
   "id": "contemporary-shannon",
   "metadata": {},
   "source": [
    "**append()** is used to add items to the end of the list.  Pass the item you want to add as the argument."
   ]
  },
  {
   "cell_type": "code",
   "execution_count": 85,
   "id": "lovely-truth",
   "metadata": {},
   "outputs": [
    {
     "name": "stdout",
     "output_type": "stream",
     "text": [
      "['dog', 'cat', 'bird', 'bird', 7, 'human', 10, 10]\n"
     ]
    }
   ],
   "source": [
    "my_list.append(10)\n",
    "\n",
    "print(my_list)"
   ]
  },
  {
   "cell_type": "markdown",
   "id": "acceptable-george",
   "metadata": {},
   "source": [
    "**insert()** is used to add items at a particular index but without replacing what is currently there.  Other items are just pushed down one index place."
   ]
  },
  {
   "cell_type": "code",
   "execution_count": 86,
   "id": "optical-semester",
   "metadata": {},
   "outputs": [
    {
     "name": "stdout",
     "output_type": "stream",
     "text": [
      "['dog', 'cat', 'fish', 'bird', 'bird', 7, 'human', 10, 10]\n"
     ]
    }
   ],
   "source": [
    "my_list.insert(2, \"fish\") #the first argument is the index to place it, the second is the item to add\n",
    "\n",
    "print(my_list)"
   ]
  },
  {
   "cell_type": "markdown",
   "id": "academic-thunder",
   "metadata": {},
   "source": [
    "**pop()** is used without any argument to remove the last item from the list.  Unlike the previous methods, this function also returns something in addition to altering the list.  It returns the removed value, so you could store it in a variable, etc. too.  However, you can also pass pop() a specific index number and it will remove and return that value."
   ]
  },
  {
   "cell_type": "code",
   "execution_count": 16,
   "id": "strategic-coupon",
   "metadata": {},
   "outputs": [
    {
     "name": "stdout",
     "output_type": "stream",
     "text": [
      "['dog', 'cat', 1.5]\n",
      "1.5\n",
      "['dog', 'cat']\n"
     ]
    }
   ],
   "source": [
    "print(my_list)\n",
    "item = my_list.pop()\n",
    "print(item)\n",
    "print(my_list)\n"
   ]
  },
  {
   "cell_type": "markdown",
   "id": "stopped-emerald",
   "metadata": {},
   "source": [
    "**remove()** also removes items from a list, but instead of an index number, you pass it the value you want removed.  This is helpful when you don't know where in the list a specific value is located.  It will remove\n",
    "the first instance of the value you specify.  It does not return that value like pop().  Trying to remove an item that doesn't exist in the list will result in an error."
   ]
  },
  {
   "cell_type": "code",
   "execution_count": 19,
   "id": "loose-shepherd",
   "metadata": {},
   "outputs": [
    {
     "name": "stdout",
     "output_type": "stream",
     "text": [
      "['dog', 1.5, 7, 'human']\n"
     ]
    }
   ],
   "source": [
    "my_list.remove(\"cat\")\n",
    "print(my_list)"
   ]
  },
  {
   "cell_type": "markdown",
   "id": "arbitrary-frederick",
   "metadata": {},
   "source": [
    "The **del** keyword (short for delete) can be used to remove values from a list by index number.  It can be used to delete a whole slice.  Without an index or slice, it removes the entire list.  This isn't actually a list method, but a built in keyword, so the syntax is different."
   ]
  },
  {
   "cell_type": "code",
   "execution_count": 90,
   "id": "synthetic-passenger",
   "metadata": {},
   "outputs": [
    {
     "name": "stdout",
     "output_type": "stream",
     "text": [
      "['dog', 'fish', 'bird', 7, 'human', 10]\n"
     ]
    }
   ],
   "source": [
    "print(my_list)"
   ]
  },
  {
   "cell_type": "code",
   "execution_count": 92,
   "id": "announced-economics",
   "metadata": {},
   "outputs": [
    {
     "name": "stdout",
     "output_type": "stream",
     "text": [
      "['bird', 7, 'human', 10]\n"
     ]
    }
   ],
   "source": [
    "del my_list[0]\n",
    "print(my_list)"
   ]
  },
  {
   "cell_type": "markdown",
   "id": "patient-interface",
   "metadata": {},
   "source": [
    "When used to delete the list, it doesn't just remove the items, leaving an empty list.  It deletes the entire variable. It can be used to delete variables containing other data types too.  It cannot delete immutable objects like strings directly, but it can delete a variable containing one."
   ]
  },
  {
   "cell_type": "code",
   "execution_count": 96,
   "id": "medical-providence",
   "metadata": {},
   "outputs": [
    {
     "ename": "NameError",
     "evalue": "name 'my_list' is not defined",
     "output_type": "error",
     "traceback": [
      "\u001b[1;31m---------------------------------------------------------------------------\u001b[0m",
      "\u001b[1;31mNameError\u001b[0m                                 Traceback (most recent call last)",
      "\u001b[1;32m<ipython-input-96-7a103dd61563>\u001b[0m in \u001b[0;36m<module>\u001b[1;34m\u001b[0m\n\u001b[0;32m      1\u001b[0m \u001b[1;32mdel\u001b[0m \u001b[0mmy_list\u001b[0m\u001b[1;33m\u001b[0m\u001b[1;33m\u001b[0m\u001b[0m\n\u001b[1;32m----> 2\u001b[1;33m \u001b[0mprint\u001b[0m\u001b[1;33m(\u001b[0m\u001b[0mmy_list\u001b[0m\u001b[1;33m)\u001b[0m\u001b[1;33m\u001b[0m\u001b[1;33m\u001b[0m\u001b[0m\n\u001b[0m",
      "\u001b[1;31mNameError\u001b[0m: name 'my_list' is not defined"
     ]
    }
   ],
   "source": [
    "del my_list\n",
    "print(my_list)"
   ]
  },
  {
   "cell_type": "markdown",
   "id": "fifth-moderator",
   "metadata": {},
   "source": [
    "The next two functions don't alter a list but return something from it."
   ]
  },
  {
   "cell_type": "markdown",
   "id": "criminal-trash",
   "metadata": {},
   "source": [
    "**index()** is used to return the index number of a given value."
   ]
  },
  {
   "cell_type": "code",
   "execution_count": 99,
   "id": "willing-privacy",
   "metadata": {},
   "outputs": [
    {
     "name": "stdout",
     "output_type": "stream",
     "text": [
      "0\n"
     ]
    }
   ],
   "source": [
    "num = my_list.index(\"dog\")\n",
    "\n",
    "print(num)"
   ]
  },
  {
   "cell_type": "markdown",
   "id": "violent-threat",
   "metadata": {},
   "source": [
    "**count()** returns the number of times a value appears in a list."
   ]
  },
  {
   "cell_type": "code",
   "execution_count": 100,
   "id": "surrounded-deployment",
   "metadata": {},
   "outputs": [
    {
     "name": "stdout",
     "output_type": "stream",
     "text": [
      "1\n"
     ]
    }
   ],
   "source": [
    "dogs = my_list.count(\"dog\")\n",
    "\n",
    "print(dogs)"
   ]
  },
  {
   "cell_type": "markdown",
   "id": "exempt-share",
   "metadata": {},
   "source": [
    "As we have seen, most list methods alter the original list object.  When you want to preserve the original, you need to create a copy.\n",
    "Then you can work on the original or the copy, leaving the other alone.  However, you can't just assign the value of the original list's variable to a new variable.  This works for strings and integers, but not lists.  Once a list is created, any new variables assigned to that same value will point to the same place in system memory.  Those new variable names would essentially be aliases for the same piece of data."
   ]
  },
  {
   "cell_type": "code",
   "execution_count": 105,
   "id": "danish-fault",
   "metadata": {},
   "outputs": [
    {
     "name": "stdout",
     "output_type": "stream",
     "text": [
      "original list:  ['dog', 'cat', 1.5, 7, 'human']\n",
      "original list now:  ['dog', 'cat', 1.5, 7, 'human', 'new item']\n"
     ]
    }
   ],
   "source": [
    "print(\"original list: \",my_list)\n",
    "copy_list = my_list\n",
    "copy_list.append(\"new item\")\n",
    "print(\"original list now: \",my_list)\n"
   ]
  },
  {
   "cell_type": "markdown",
   "id": "corporate-gospel",
   "metadata": {},
   "source": [
    "**copy()** luckily this function exists to create a true, independant copy of the list.  Be sure to store it in its own variable."
   ]
  },
  {
   "cell_type": "code",
   "execution_count": 106,
   "id": "exposed-camping",
   "metadata": {},
   "outputs": [
    {
     "name": "stdout",
     "output_type": "stream",
     "text": [
      "my_list:  ['dog', 'cat', 1.5, 7, 'human', 'new item']\n",
      "copy_list:  ['dog', 'cat', 1.5, 7, 'human', 'new item', 'another new item']\n"
     ]
    }
   ],
   "source": [
    "copy_list = my_list.copy()\n",
    "copy_list.append(\"another new item\")\n",
    "print(\"my_list: \",my_list)\n",
    "print(\"copy_list: \",copy_list)\n"
   ]
  },
  {
   "cell_type": "markdown",
   "id": "fallen-suicide",
   "metadata": {},
   "source": [
    "**sort()** sorts list items in alpha or numerical order.  However, it won't work with lists that mix numbers and strings."
   ]
  },
  {
   "cell_type": "code",
   "execution_count": 107,
   "id": "traditional-scope",
   "metadata": {},
   "outputs": [
    {
     "ename": "TypeError",
     "evalue": "'<' not supported between instances of 'float' and 'str'",
     "output_type": "error",
     "traceback": [
      "\u001b[1;31m---------------------------------------------------------------------------\u001b[0m",
      "\u001b[1;31mTypeError\u001b[0m                                 Traceback (most recent call last)",
      "\u001b[1;32m<ipython-input-107-3f28988e4cbc>\u001b[0m in \u001b[0;36m<module>\u001b[1;34m\u001b[0m\n\u001b[1;32m----> 1\u001b[1;33m \u001b[0mmy_list\u001b[0m\u001b[1;33m.\u001b[0m\u001b[0msort\u001b[0m\u001b[1;33m(\u001b[0m\u001b[1;33m)\u001b[0m\u001b[1;33m\u001b[0m\u001b[1;33m\u001b[0m\u001b[0m\n\u001b[0m\u001b[0;32m      2\u001b[0m \u001b[0mprint\u001b[0m\u001b[1;33m(\u001b[0m\u001b[0mmy_list\u001b[0m\u001b[1;33m)\u001b[0m\u001b[1;33m\u001b[0m\u001b[1;33m\u001b[0m\u001b[0m\n",
      "\u001b[1;31mTypeError\u001b[0m: '<' not supported between instances of 'float' and 'str'"
     ]
    }
   ],
   "source": [
    "my_list.sort()\n",
    "print(my_list)"
   ]
  },
  {
   "cell_type": "code",
   "execution_count": 108,
   "id": "monthly-hollow",
   "metadata": {},
   "outputs": [
    {
     "name": "stdout",
     "output_type": "stream",
     "text": [
      "['cat', 'dog', 'fish', 'human']\n"
     ]
    }
   ],
   "source": [
    "new_list = [\"dog\", \"human\", \"cat\", \"fish\"]\n",
    "new_list.sort()\n",
    "print(new_list)"
   ]
  },
  {
   "cell_type": "markdown",
   "id": "fatty-gossip",
   "metadata": {},
   "source": [
    "If you want to sort the list while leaving the original alone, you can use copy(), however there is another built in function that does the job.\n",
    "**sorted()** returns a new list sorted, so you can also assign it to a new variable.  Because it isn't a list method, the syntax is different."
   ]
  },
  {
   "cell_type": "code",
   "execution_count": 113,
   "id": "coordinated-soundtrack",
   "metadata": {},
   "outputs": [
    {
     "name": "stdout",
     "output_type": "stream",
     "text": [
      "original list:  [23, 45, 10, 5]\n",
      "x = [5, 10, 23, 45]\n"
     ]
    }
   ],
   "source": [
    "numlist = [23, 45, 10, 5]\n",
    "x = sorted(numlist)\n",
    "\n",
    "print(\"original list: \",numlist)\n",
    "\n",
    "print(\"x =\",x)"
   ]
  },
  {
   "cell_type": "markdown",
   "id": "novel-capability",
   "metadata": {},
   "source": [
    "**reverse()** is a list method.  It reverses the order of the original list.  Use copy() first if you want to keep the original.\n",
    "You could also assign a reversed slice of the entire list to a new variable."
   ]
  },
  {
   "cell_type": "code",
   "execution_count": 115,
   "id": "optical-particular",
   "metadata": {},
   "outputs": [
    {
     "name": "stdout",
     "output_type": "stream",
     "text": [
      "[45, 23, 10, 5]\n"
     ]
    }
   ],
   "source": [
    "revlist = x.copy()\n",
    "revlist.reverse()\n",
    "print(revlist)"
   ]
  },
  {
   "cell_type": "code",
   "execution_count": 116,
   "id": "integral-interference",
   "metadata": {},
   "outputs": [
    {
     "name": "stdout",
     "output_type": "stream",
     "text": [
      "[45, 23, 10, 5]\n"
     ]
    }
   ],
   "source": [
    "print(x[::-1])"
   ]
  },
  {
   "cell_type": "markdown",
   "id": "fixed-calculator",
   "metadata": {},
   "source": [
    "## Looping Through Lists\n",
    "Now you can combine what we know about strings, lists and loops to perform a wider array of tasks."
   ]
  },
  {
   "cell_type": "code",
   "execution_count": 23,
   "id": "sharp-discharge",
   "metadata": {},
   "outputs": [],
   "source": [
    "a_string = \"Hello world my name is David!\""
   ]
  },
  {
   "cell_type": "code",
   "execution_count": 26,
   "id": "wrong-principal",
   "metadata": {},
   "outputs": [
    {
     "name": "stdout",
     "output_type": "stream",
     "text": [
      "['Hello', 'world', 'my', 'name', 'is', 'David!']\n"
     ]
    }
   ],
   "source": [
    "split_string = a_string.split()\n",
    "print(split_string)"
   ]
  },
  {
   "cell_type": "code",
   "execution_count": 119,
   "id": "difficult-poverty",
   "metadata": {},
   "outputs": [
    {
     "name": "stdout",
     "output_type": "stream",
     "text": [
      "['my', 'is']\n"
     ]
    }
   ],
   "source": [
    "short_words = [] #creating an empty list that the loop will fill.\n",
    "\n",
    "for x in split_string:\n",
    "    if len(x) < 3: #finds all words in the list less than 3 characters long\n",
    "        short_words.append(x) #appends those words to the list we created above\n",
    "        \n",
    "print(short_words)"
   ]
  },
  {
   "cell_type": "code",
   "execution_count": 29,
   "id": "careful-making",
   "metadata": {},
   "outputs": [
    {
     "name": "stdout",
     "output_type": "stream",
     "text": [
      "olleH dlrow ym eman si !divaD\n"
     ]
    }
   ],
   "source": [
    "rev_words = []\n",
    "for x in split_string:\n",
    "    rev_words.append(x[::-1]) #appends each words in split_string, but individually reversed, to the new rev_words list\n",
    "    \n",
    "print(\" \".join(rev_words)) #creates a string from the rev_words list."
   ]
  },
  {
   "cell_type": "markdown",
   "id": "incomplete-fifteen",
   "metadata": {},
   "source": [
    "### Splitting a string into characters/letters\n",
    "To split a single word string into a list of characters, you can use the built in list() function\n"
   ]
  },
  {
   "cell_type": "code",
   "execution_count": 21,
   "id": "north-eating",
   "metadata": {},
   "outputs": [
    {
     "name": "stdout",
     "output_type": "stream",
     "text": [
      "['a', 'b', 'c', 'd', 'e', 'f', 'g']\n"
     ]
    }
   ],
   "source": [
    "letters = list(\"abcdefg\")\n",
    "print(letters)"
   ]
  },
  {
   "cell_type": "markdown",
   "id": "operating-outreach",
   "metadata": {},
   "source": [
    "### Splitting numbers into digits\n",
    "Integers cannot be directly split into a list of digits like a string.  Strings are \"iterable\" objects, meaning each value or character is something that can be individually accessed and looped over.  Integers are designed to represent full, sigular values and are not treated as iterable."
   ]
  },
  {
   "cell_type": "code",
   "execution_count": 2,
   "id": "sublime-anthropology",
   "metadata": {},
   "outputs": [],
   "source": [
    "nums = 122432523"
   ]
  },
  {
   "cell_type": "code",
   "execution_count": 3,
   "id": "prompt-venue",
   "metadata": {},
   "outputs": [
    {
     "ename": "TypeError",
     "evalue": "'int' object is not iterable",
     "output_type": "error",
     "traceback": [
      "\u001b[1;31m---------------------------------------------------------------------------\u001b[0m",
      "\u001b[1;31mTypeError\u001b[0m                                 Traceback (most recent call last)",
      "\u001b[1;32m<ipython-input-3-69797894eb5c>\u001b[0m in \u001b[0;36m<module>\u001b[1;34m\u001b[0m\n\u001b[1;32m----> 1\u001b[1;33m \u001b[0mnumlist\u001b[0m \u001b[1;33m=\u001b[0m \u001b[0mlist\u001b[0m\u001b[1;33m(\u001b[0m\u001b[0mnums\u001b[0m\u001b[1;33m)\u001b[0m\u001b[1;33m\u001b[0m\u001b[1;33m\u001b[0m\u001b[0m\n\u001b[0m\u001b[0;32m      2\u001b[0m \u001b[0mprint\u001b[0m\u001b[1;33m(\u001b[0m\u001b[0mnumlist\u001b[0m\u001b[1;33m)\u001b[0m\u001b[1;33m\u001b[0m\u001b[1;33m\u001b[0m\u001b[0m\n",
      "\u001b[1;31mTypeError\u001b[0m: 'int' object is not iterable"
     ]
    }
   ],
   "source": [
    "numlist = list(nums)\n",
    "print(numlist)"
   ]
  },
  {
   "cell_type": "markdown",
   "id": "aerial-blond",
   "metadata": {},
   "source": [
    "However, you can easily convert an integer into a string using the str() function, then use the list function.  Below we have nested the two together.  The inner most str() function returns a string first, then the outer list() function splits it into a list."
   ]
  },
  {
   "cell_type": "code",
   "execution_count": 4,
   "id": "national-sequence",
   "metadata": {},
   "outputs": [
    {
     "name": "stdout",
     "output_type": "stream",
     "text": [
      "['1', '2', '2', '4', '3', '2', '5', '2', '3']\n"
     ]
    }
   ],
   "source": [
    "numlist = list(str(nums))\n",
    "print(numlist)"
   ]
  },
  {
   "cell_type": "markdown",
   "id": "colored-dispute",
   "metadata": {},
   "source": [
    "Convert them back into integers using a loop or list comprehension:"
   ]
  },
  {
   "cell_type": "code",
   "execution_count": 5,
   "id": "cardiovascular-penalty",
   "metadata": {},
   "outputs": [
    {
     "name": "stdout",
     "output_type": "stream",
     "text": [
      "[1, 2, 2, 4, 3, 2, 5, 2, 3]\n"
     ]
    }
   ],
   "source": [
    "intlist = []\n",
    "for x in numlist:\n",
    "    intlist.append(int(x))\n",
    "print(intlist)"
   ]
  },
  {
   "cell_type": "code",
   "execution_count": 7,
   "id": "perfect-snowboard",
   "metadata": {},
   "outputs": [
    {
     "name": "stdout",
     "output_type": "stream",
     "text": [
      "[1, 2, 2, 4, 3, 2, 5, 2, 3]\n"
     ]
    }
   ],
   "source": [
    "intlist = [int(x) for x in numlist]\n",
    "print(intlist)"
   ]
  },
  {
   "cell_type": "code",
   "execution_count": null,
   "id": "dedicated-regression",
   "metadata": {},
   "outputs": [],
   "source": []
  }
 ],
 "metadata": {
  "kernelspec": {
   "display_name": "Python 3",
   "language": "python",
   "name": "python3"
  },
  "language_info": {
   "codemirror_mode": {
    "name": "ipython",
    "version": 3
   },
   "file_extension": ".py",
   "mimetype": "text/x-python",
   "name": "python",
   "nbconvert_exporter": "python",
   "pygments_lexer": "ipython3",
   "version": "3.9.0"
  }
 },
 "nbformat": 4,
 "nbformat_minor": 5
}
