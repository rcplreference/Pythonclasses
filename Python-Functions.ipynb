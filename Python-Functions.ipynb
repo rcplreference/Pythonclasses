{
 "cells": [
  {
   "cell_type": "markdown",
   "id": "intense-annex",
   "metadata": {},
   "source": [
    "# Python - Functions\n",
    "\n",
    "As mentioned in previous classes, a function is a block of code that performs some task(s) when it is run or “called.”  As we have already seen, the general syntax of a function call is:  function_name(arguments)  the function name is followed by parenthesis that contain any data that might be passed into the function.  We have already worked with several of the built in functions such as print(). "
   ]
  },
  {
   "cell_type": "markdown",
   "id": "regional-queens",
   "metadata": {},
   "source": [
    "## Defining Functions\n",
    "You are not limited to the selection of built in functions.  You can and often will have to build functions of your own (called “user defined” functions) to accomplish specific tasks.  Instead of repeatedly typing in code to perform that task whenever it is needed, you can create a function and call it when needed.  In doing so you will have created your own blocks of reusable code that can be used in that or even other programs.  The basics of creating a function isn’t very hard."
   ]
  },
  {
   "cell_type": "markdown",
   "id": "interim-dakota",
   "metadata": {},
   "source": [
    "The syntax is as follows:\n",
    "It begins with the keyword **def** as we are defining a function.  This is followed by the name you give to your function.  Then comes parenthesis that may include parameter names should this function need to take in and act on any arguments.  This is followed with a colon that lets Python know an indented code block is coming next.  Remembering this colon and being sure to indent the code block are common errors.  If you notice, the syntax is a lot like that of loops and if statements.  Right before the meat of the code block, programmers will sometimes include a comment containing information about the use of the function, known as a **docstring**.\n"
   ]
  },
  {
   "cell_type": "code",
   "execution_count": 5,
   "id": "christian-deviation",
   "metadata": {},
   "outputs": [],
   "source": [
    "def my_function(number):\n",
    "    '''Just multiplies the argument by 2'''\n",
    "    new_number = number * 2\n",
    "   "
   ]
  },
  {
   "cell_type": "markdown",
   "id": "serious-genealogy",
   "metadata": {},
   "source": [
    "### Calling the function\n",
    "\n",
    "Once Defined, you can call your function simply by using the function name and arguments syntax used with the built in functions."
   ]
  },
  {
   "cell_type": "code",
   "execution_count": 4,
   "id": "studied-mercy",
   "metadata": {},
   "outputs": [],
   "source": [
    "my_function(4)"
   ]
  },
  {
   "cell_type": "markdown",
   "id": "certain-forward",
   "metadata": {},
   "source": [
    "### Returning data out of a function\n",
    "Notice how nothing appears to happen when the above function executes. This is why many functions end with a **return** statement.  Whenever the function encounters a return statement, it exits the function, returning the contents of the expression that immediately followed it.  Let's try the function again:"
   ]
  },
  {
   "cell_type": "code",
   "execution_count": 7,
   "id": "independent-princess",
   "metadata": {},
   "outputs": [],
   "source": [
    "def my_function(number):\n",
    "    '''Just multiplies the argument by 2'''\n",
    "    new_number = number * 2\n",
    "    return new_number\n",
    "   "
   ]
  },
  {
   "cell_type": "code",
   "execution_count": 8,
   "id": "black-vintage",
   "metadata": {},
   "outputs": [
    {
     "data": {
      "text/plain": [
       "8"
      ]
     },
     "execution_count": 8,
     "metadata": {},
     "output_type": "execute_result"
    }
   ],
   "source": [
    "my_function(4)"
   ]
  },
  {
   "cell_type": "markdown",
   "id": "harmful-welsh",
   "metadata": {},
   "source": [
    "It may help to think of the function call as just another expression.  It takes on the return value of the underlying function.  Therefore you can assign function calls\n",
    "to variables and use them in other expressions.  It is also possible for a function to have multiple return statments:"
   ]
  },
  {
   "cell_type": "code",
   "execution_count": 9,
   "id": "modern-oxygen",
   "metadata": {},
   "outputs": [],
   "source": [
    "def multi_num(num):\n",
    "    if num < 10:\n",
    "        return num * 2\n",
    "    else:\n",
    "        return num * 3\n"
   ]
  },
  {
   "cell_type": "markdown",
   "id": "czech-johnson",
   "metadata": {},
   "source": [
    "A function will end when it hits the first return statement.  This is useful when a function contains a conditional."
   ]
  },
  {
   "cell_type": "code",
   "execution_count": 20,
   "id": "vulnerable-watershed",
   "metadata": {},
   "outputs": [
    {
     "name": "stdout",
     "output_type": "stream",
     "text": [
      "18\n",
      "150\n",
      "11\n"
     ]
    }
   ],
   "source": [
    "print(multi_num(9))\n",
    "print(multi_num(50))\n",
    "\n",
    "print(multi_num(3) + 5)"
   ]
  },
  {
   "cell_type": "markdown",
   "id": "different-peeing",
   "metadata": {},
   "source": [
    "### None value\n",
    "A function without a return statement or ends with the word return without any arguments will have the return value of None. "
   ]
  },
  {
   "cell_type": "markdown",
   "id": "administrative-spectrum",
   "metadata": {},
   "source": [
    "### Printing from a function\n",
    "A function without a return statement could contain a print statement that will send the results of the function to the screen.  However, these results cannot be used\n",
    "in any other way.  Let's revisit the first example:"
   ]
  },
  {
   "cell_type": "code",
   "execution_count": 12,
   "id": "informative-roberts",
   "metadata": {},
   "outputs": [],
   "source": [
    "def my_function(number):\n",
    "    '''Just multiplies the argument by 2'''\n",
    "    new_number = number * 2\n",
    "   "
   ]
  },
  {
   "cell_type": "code",
   "execution_count": 13,
   "id": "breeding-guatemala",
   "metadata": {},
   "outputs": [
    {
     "name": "stdout",
     "output_type": "stream",
     "text": [
      "None\n"
     ]
    }
   ],
   "source": [
    "print(my_function(4))"
   ]
  },
  {
   "cell_type": "markdown",
   "id": "judicial-wednesday",
   "metadata": {},
   "source": [
    "When you call print on a function call, you are printing its return value.  The function has no return, so the value of it is None."
   ]
  },
  {
   "cell_type": "markdown",
   "id": "involved-snake",
   "metadata": {},
   "source": [
    "You could go back and add a print statement to the function itself"
   ]
  },
  {
   "cell_type": "code",
   "execution_count": 18,
   "id": "premium-showcase",
   "metadata": {},
   "outputs": [
    {
     "name": "stdout",
     "output_type": "stream",
     "text": [
      "12\n"
     ]
    }
   ],
   "source": [
    "def my_function(number):\n",
    "    '''Just multiplies the argument by 2'''\n",
    "    new_number = number * 2\n",
    "    print(new_number)\n",
    "    \n",
    "my_function(6)\n"
   ]
  },
  {
   "cell_type": "markdown",
   "id": "noted-calcium",
   "metadata": {},
   "source": [
    "You see the expected result on screen.  However, try printing the actual value of the function again.  You see two results.  The first is the result of the print\n",
    "statement within the function.  The second is the return value of the function itself."
   ]
  },
  {
   "cell_type": "code",
   "execution_count": 19,
   "id": "compact-insert",
   "metadata": {},
   "outputs": [
    {
     "name": "stdout",
     "output_type": "stream",
     "text": [
      "12\n",
      "None\n"
     ]
    }
   ],
   "source": [
    "print(my_function(6))"
   ]
  },
  {
   "cell_type": "code",
   "execution_count": 22,
   "id": "concerned-daisy",
   "metadata": {},
   "outputs": [
    {
     "name": "stdout",
     "output_type": "stream",
     "text": [
      "12\n"
     ]
    },
    {
     "ename": "TypeError",
     "evalue": "unsupported operand type(s) for +: 'NoneType' and 'int'",
     "output_type": "error",
     "traceback": [
      "\u001b[1;31m---------------------------------------------------------------------------\u001b[0m",
      "\u001b[1;31mTypeError\u001b[0m                                 Traceback (most recent call last)",
      "\u001b[1;32m<ipython-input-22-5d500c71abb7>\u001b[0m in \u001b[0;36m<module>\u001b[1;34m\u001b[0m\n\u001b[1;32m----> 1\u001b[1;33m \u001b[0mprint\u001b[0m\u001b[1;33m(\u001b[0m\u001b[0mmy_function\u001b[0m\u001b[1;33m(\u001b[0m\u001b[1;36m6\u001b[0m\u001b[1;33m)\u001b[0m \u001b[1;33m+\u001b[0m \u001b[1;36m3\u001b[0m\u001b[1;33m)\u001b[0m  \u001b[1;31m#with a value of None, this function call cannot be used to create such an expression.\u001b[0m\u001b[1;33m\u001b[0m\u001b[1;33m\u001b[0m\u001b[0m\n\u001b[0m",
      "\u001b[1;31mTypeError\u001b[0m: unsupported operand type(s) for +: 'NoneType' and 'int'"
     ]
    }
   ],
   "source": [
    "print(my_function(6) + 3)  #with a value of None, this function call cannot be used to create such an expression."
   ]
  },
  {
   "cell_type": "markdown",
   "id": "solved-geology",
   "metadata": {},
   "source": [
    "### pass\n",
    "Every function definition must contain some valid code in order for the interpreter to not throw an error.  If you start a function, but aren't yet sure what it should\n",
    "include, use the keyword **pass**."
   ]
  },
  {
   "cell_type": "code",
   "execution_count": 26,
   "id": "stunning-harvard",
   "metadata": {},
   "outputs": [],
   "source": [
    "def func_y():\n",
    "    pass"
   ]
  },
  {
   "cell_type": "markdown",
   "id": "diverse-musical",
   "metadata": {},
   "source": [
    "## Arguments\n",
    "Most functions are defined to take in data.  This data is referred to as an argument.  Functions can also require multiple arguments.  An error will occur if you attempt to call such functions without the correct number of arguments (too few or too many).  The variable names used in the parentesis of the function definition are called\n",
    "parameters.  The following function has two parameters."
   ]
  },
  {
   "cell_type": "code",
   "execution_count": 27,
   "id": "biblical-sight",
   "metadata": {},
   "outputs": [],
   "source": [
    "def two_args(num1, num2):\n",
    "    print(num1)\n",
    "    print(num2)\n",
    "    return"
   ]
  },
  {
   "cell_type": "code",
   "execution_count": 28,
   "id": "devoted-quilt",
   "metadata": {},
   "outputs": [
    {
     "ename": "TypeError",
     "evalue": "two_args() missing 1 required positional argument: 'num2'",
     "output_type": "error",
     "traceback": [
      "\u001b[1;31m---------------------------------------------------------------------------\u001b[0m",
      "\u001b[1;31mTypeError\u001b[0m                                 Traceback (most recent call last)",
      "\u001b[1;32m<ipython-input-28-848d54866a89>\u001b[0m in \u001b[0;36m<module>\u001b[1;34m\u001b[0m\n\u001b[1;32m----> 1\u001b[1;33m \u001b[0mtwo_args\u001b[0m\u001b[1;33m(\u001b[0m\u001b[1;36m4\u001b[0m\u001b[1;33m)\u001b[0m\u001b[1;33m\u001b[0m\u001b[1;33m\u001b[0m\u001b[0m\n\u001b[0m",
      "\u001b[1;31mTypeError\u001b[0m: two_args() missing 1 required positional argument: 'num2'"
     ]
    }
   ],
   "source": [
    "two_args(4)"
   ]
  },
  {
   "cell_type": "code",
   "execution_count": 29,
   "id": "streaming-final",
   "metadata": {},
   "outputs": [
    {
     "ename": "TypeError",
     "evalue": "two_args() takes 2 positional arguments but 3 were given",
     "output_type": "error",
     "traceback": [
      "\u001b[1;31m---------------------------------------------------------------------------\u001b[0m",
      "\u001b[1;31mTypeError\u001b[0m                                 Traceback (most recent call last)",
      "\u001b[1;32m<ipython-input-29-a976d3b5f6cf>\u001b[0m in \u001b[0;36m<module>\u001b[1;34m\u001b[0m\n\u001b[1;32m----> 1\u001b[1;33m \u001b[0mtwo_args\u001b[0m\u001b[1;33m(\u001b[0m\u001b[1;36m4\u001b[0m\u001b[1;33m,\u001b[0m \u001b[1;36m5\u001b[0m\u001b[1;33m,\u001b[0m \u001b[1;36m6\u001b[0m\u001b[1;33m)\u001b[0m\u001b[1;33m\u001b[0m\u001b[1;33m\u001b[0m\u001b[0m\n\u001b[0m",
      "\u001b[1;31mTypeError\u001b[0m: two_args() takes 2 positional arguments but 3 were given"
     ]
    }
   ],
   "source": [
    "two_args(4, 5, 6)"
   ]
  },
  {
   "cell_type": "code",
   "execution_count": 31,
   "id": "express-fountain",
   "metadata": {},
   "outputs": [
    {
     "name": "stdout",
     "output_type": "stream",
     "text": [
      "4\n",
      "5\n"
     ]
    }
   ],
   "source": [
    "two_args(4, 5)"
   ]
  },
  {
   "cell_type": "markdown",
   "id": "falling-queue",
   "metadata": {},
   "source": [
    "## Positional and Keyword Arguments\n",
    "Without more, a function will take in the arguments you pass and assign them to the parameter names in the order received.  They take their values from the position\n",
    "of the arguments.  Because parameter names really just variable names, you can actually call a function using them.  The key is you have to know the actual parameter names.  You would have to consult the functions help files or research it elsewhere to learn those names.  Try calling help() on a function name like print."
   ]
  },
  {
   "cell_type": "code",
   "execution_count": 32,
   "id": "electrical-pontiac",
   "metadata": {},
   "outputs": [
    {
     "name": "stdout",
     "output_type": "stream",
     "text": [
      "3\n",
      "4\n"
     ]
    }
   ],
   "source": [
    "two_args(num2 = 4, num1 = 3)"
   ]
  },
  {
   "cell_type": "markdown",
   "id": "spiritual-ecuador",
   "metadata": {},
   "source": [
    "Using the parameter keywords, you can pass arguments in any order you wish.  The function will perform the same."
   ]
  },
  {
   "cell_type": "markdown",
   "id": "veterinary-january",
   "metadata": {},
   "source": [
    "### Default Values\n",
    "Functions can also be designed to have default values for some or all of the parameters.  These are included in the function definition.  You will see an assignment statement as a parameter."
   ]
  },
  {
   "cell_type": "code",
   "execution_count": 38,
   "id": "neural-arlington",
   "metadata": {},
   "outputs": [
    {
     "data": {
      "text/plain": [
       "3"
      ]
     },
     "execution_count": 38,
     "metadata": {},
     "output_type": "execute_result"
    }
   ],
   "source": [
    "def two_args(num1 =1, num2 = 3):\n",
    "    return num1 * num2\n",
    "\n",
    "two_args()"
   ]
  },
  {
   "cell_type": "markdown",
   "id": "sealed-reducing",
   "metadata": {},
   "source": [
    "Should the above function be called without arguments, it will not cause an error.  The parameters take on their default values and the function can execute.\n",
    "This only works if all parameters have default values.  If only one had a default, the function would still require at least one argument.\n",
    "\n",
    "When defining a function with a mix of paremeters with and without defaults, the ones with defaults must be positioned last.\n",
    "\n",
    "You can still call this function with arguments of your choosing, either positionally or by keyword.  These will overide the default values."
   ]
  },
  {
   "cell_type": "code",
   "execution_count": 41,
   "id": "structured-counter",
   "metadata": {},
   "outputs": [
    {
     "name": "stdout",
     "output_type": "stream",
     "text": [
      "20\n",
      "500\n"
     ]
    }
   ],
   "source": [
    "print(two_args(4, 5))\n",
    "print(two_args(num1 = 5, num2 = 100))"
   ]
  },
  {
   "cell_type": "markdown",
   "id": "unnecessary-effectiveness",
   "metadata": {},
   "source": [
    "Even some of the built in functions make use of default values which you can override using keyword arguments."
   ]
  },
  {
   "cell_type": "code",
   "execution_count": 46,
   "id": "psychological-wells",
   "metadata": {},
   "outputs": [
    {
     "name": "stdout",
     "output_type": "stream",
     "text": [
      "Hello-World-!\n"
     ]
    }
   ],
   "source": [
    "print(\"Hello\", \"World\", \"!\", sep=\"-\")  #print uses a space as the default separator when printing multiple strings.  Give the \"sep\" parameter a different value."
   ]
  },
  {
   "cell_type": "markdown",
   "id": "laden-investigation",
   "metadata": {},
   "source": [
    "### Variable Length Arguments\n",
    "Most functions are designed to take a particlar number of arguments.  You can also define them to take on an unknown number of arguments.  This is useful when you\n",
    "don't know just how many pieces of data your function will be working with.\n",
    "\n",
    "The parameter name in the function definition will begin with an asterisk."
   ]
  },
  {
   "cell_type": "code",
   "execution_count": 47,
   "id": "capable-internship",
   "metadata": {},
   "outputs": [
    {
     "data": {
      "text/plain": [
       "[3, 4, 5, 6]"
      ]
     },
     "execution_count": 47,
     "metadata": {},
     "output_type": "execute_result"
    }
   ],
   "source": [
    "def numbers_list(*args):\n",
    "    return list(args)\n",
    "\n",
    "numbers_list(3,4,5,6)"
   ]
  },
  {
   "cell_type": "markdown",
   "id": "editorial-antique",
   "metadata": {},
   "source": [
    "You can combine positional and variable length arguments.  The positional ones must come first, otherwise Python can't tell when the variable length arguments end."
   ]
  },
  {
   "cell_type": "code",
   "execution_count": 50,
   "id": "necessary-stereo",
   "metadata": {},
   "outputs": [
    {
     "data": {
      "text/plain": [
       "['cat', 2, 3, 4]"
      ]
     },
     "execution_count": 50,
     "metadata": {},
     "output_type": "execute_result"
    }
   ],
   "source": [
    "def a_list(arg1, *args):\n",
    "    return [arg1] + list(args)\n",
    "\n",
    "a_list(\"cat\", 2, 3, 4)"
   ]
  },
  {
   "cell_type": "markdown",
   "id": "knowing-fountain",
   "metadata": {},
   "source": [
    "Should you mix this last point up and start with the variable length argument, the latter parameters become keyword only.  And without default values, the function will\n",
    "throw an error if they are supplied when called.  You could also define your function this way purposely, but it becomes harder to use."
   ]
  },
  {
   "cell_type": "code",
   "execution_count": 51,
   "id": "synthetic-charles",
   "metadata": {},
   "outputs": [
    {
     "name": "stdout",
     "output_type": "stream",
     "text": [
      "30\n",
      "40\n",
      "50\n",
      "60\n"
     ]
    }
   ],
   "source": [
    "def b_list(*args, arg1):\n",
    "    for x in args:\n",
    "        print(x * arg1)\n",
    "        \n",
    "b_list(3,4,5,6, arg1 = 10)"
   ]
  },
  {
   "cell_type": "markdown",
   "id": "radical-tamil",
   "metadata": {},
   "source": [
    "## Scope\n"
   ]
  },
  {
   "cell_type": "markdown",
   "id": "marine-landing",
   "metadata": {},
   "source": [
    "Scope refers to the way that access/use of variable names is limited to the area of the program in which they are created.  So a variable that is created in the main body of your program will be in a different scope than any variables created inside of functions.  Variables that exist outside of functions are often called “Global” variables.  These are accessible both inside and outside of functions.  Those that are created inside functions are usually known as “local” scope variables as they are local to the containing function.  These exist only as long as the function is running and cease to exist once the function is done.  Each time the function is called, these local variables are create anew.  You cannot access them from outside the function."
   ]
  },
  {
   "cell_type": "code",
   "execution_count": 57,
   "id": "assumed-citizenship",
   "metadata": {},
   "outputs": [
    {
     "data": {
      "text/plain": [
       "1981"
      ]
     },
     "execution_count": 57,
     "metadata": {},
     "output_type": "execute_result"
    }
   ],
   "source": [
    "age = 40\n",
    "\n",
    "def birth_year():\n",
    "    born = 2021 - age\n",
    "    return born\n",
    "\n",
    "birth_year()\n",
    "\n",
    "#print(born)\n",
    "    "
   ]
  },
  {
   "cell_type": "code",
   "execution_count": null,
   "id": "involved-sphere",
   "metadata": {},
   "outputs": [],
   "source": [
    "Note how the function was able to directly access the age variable because it is in the global scope.  If we try"
   ]
  }
 ],
 "metadata": {
  "kernelspec": {
   "display_name": "Python 3",
   "language": "python",
   "name": "python3"
  },
  "language_info": {
   "codemirror_mode": {
    "name": "ipython",
    "version": 3
   },
   "file_extension": ".py",
   "mimetype": "text/x-python",
   "name": "python",
   "nbconvert_exporter": "python",
   "pygments_lexer": "ipython3",
   "version": "3.8.7"
  }
 },
 "nbformat": 4,
 "nbformat_minor": 5
}
